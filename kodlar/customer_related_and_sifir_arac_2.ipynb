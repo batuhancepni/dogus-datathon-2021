{
 "cells": [
  {
   "cell_type": "markdown",
   "id": "49d537e1",
   "metadata": {},
   "source": [
    "# #DOGUSOTO CUSTOMER_RELATED AND SIFIR_ARAC DATASI (2)"
   ]
  },
  {
   "cell_type": "code",
   "execution_count": 1,
   "id": "83374775",
   "metadata": {},
   "outputs": [],
   "source": [
    "import numpy as np\n",
    "import pandas as pd"
   ]
  },
  {
   "cell_type": "code",
   "execution_count": 2,
   "id": "575d0741",
   "metadata": {},
   "outputs": [],
   "source": [
    "customer_rel = pd.read_csv('../datasets/FINAL_CUSTOMER_RELATED_TABLE_FOR_DATATHON.csv')\n",
    "sifir_arac = pd.read_csv('../datasets/FINAL_SIFIR_ARAC_ALANLAR_DATATHON.csv')"
   ]
  },
  {
   "cell_type": "markdown",
   "id": "c6b55905",
   "metadata": {},
   "source": [
    "# 3-) FINAL_CUSTOMER_RELATED_TABLE"
   ]
  },
  {
   "cell_type": "markdown",
   "id": "c647d8bd",
   "metadata": {},
   "source": [
    "## Genel Bilgiler"
   ]
  },
  {
   "cell_type": "code",
   "execution_count": 24,
   "id": "eb75c75b",
   "metadata": {},
   "outputs": [
    {
     "data": {
      "text/html": [
       "<div>\n",
       "<style scoped>\n",
       "    .dataframe tbody tr th:only-of-type {\n",
       "        vertical-align: middle;\n",
       "    }\n",
       "\n",
       "    .dataframe tbody tr th {\n",
       "        vertical-align: top;\n",
       "    }\n",
       "\n",
       "    .dataframe thead th {\n",
       "        text-align: right;\n",
       "    }\n",
       "</style>\n",
       "<table border=\"1\" class=\"dataframe\">\n",
       "  <thead>\n",
       "    <tr style=\"text-align: right;\">\n",
       "      <th></th>\n",
       "      <th>BASE_CUSTOMER_ID</th>\n",
       "      <th>VEHICLE_ID</th>\n",
       "      <th>FK_RELATION_STATUS_ID</th>\n",
       "    </tr>\n",
       "  </thead>\n",
       "  <tbody>\n",
       "    <tr>\n",
       "      <th>0</th>\n",
       "      <td>189537</td>\n",
       "      <td>5321560</td>\n",
       "      <td>2</td>\n",
       "    </tr>\n",
       "    <tr>\n",
       "      <th>1</th>\n",
       "      <td>110802</td>\n",
       "      <td>5329278</td>\n",
       "      <td>1</td>\n",
       "    </tr>\n",
       "    <tr>\n",
       "      <th>2</th>\n",
       "      <td>160615</td>\n",
       "      <td>5329282</td>\n",
       "      <td>1</td>\n",
       "    </tr>\n",
       "    <tr>\n",
       "      <th>3</th>\n",
       "      <td>115664</td>\n",
       "      <td>5328513</td>\n",
       "      <td>1</td>\n",
       "    </tr>\n",
       "    <tr>\n",
       "      <th>4</th>\n",
       "      <td>81061</td>\n",
       "      <td>5322264</td>\n",
       "      <td>1</td>\n",
       "    </tr>\n",
       "    <tr>\n",
       "      <th>...</th>\n",
       "      <td>...</td>\n",
       "      <td>...</td>\n",
       "      <td>...</td>\n",
       "    </tr>\n",
       "    <tr>\n",
       "      <th>374858</th>\n",
       "      <td>22680</td>\n",
       "      <td>5172008</td>\n",
       "      <td>1</td>\n",
       "    </tr>\n",
       "    <tr>\n",
       "      <th>374863</th>\n",
       "      <td>124954</td>\n",
       "      <td>5174101</td>\n",
       "      <td>1</td>\n",
       "    </tr>\n",
       "    <tr>\n",
       "      <th>374865</th>\n",
       "      <td>167802</td>\n",
       "      <td>5174137</td>\n",
       "      <td>1</td>\n",
       "    </tr>\n",
       "    <tr>\n",
       "      <th>374866</th>\n",
       "      <td>163801</td>\n",
       "      <td>5174147</td>\n",
       "      <td>2</td>\n",
       "    </tr>\n",
       "    <tr>\n",
       "      <th>374871</th>\n",
       "      <td>93551</td>\n",
       "      <td>5188087</td>\n",
       "      <td>2</td>\n",
       "    </tr>\n",
       "  </tbody>\n",
       "</table>\n",
       "<p>196538 rows × 3 columns</p>\n",
       "</div>"
      ],
      "text/plain": [
       "        BASE_CUSTOMER_ID  VEHICLE_ID  FK_RELATION_STATUS_ID\n",
       "0                 189537     5321560                      2\n",
       "1                 110802     5329278                      1\n",
       "2                 160615     5329282                      1\n",
       "3                 115664     5328513                      1\n",
       "4                  81061     5322264                      1\n",
       "...                  ...         ...                    ...\n",
       "374858             22680     5172008                      1\n",
       "374863            124954     5174101                      1\n",
       "374865            167802     5174137                      1\n",
       "374866            163801     5174147                      2\n",
       "374871             93551     5188087                      2\n",
       "\n",
       "[196538 rows x 3 columns]"
      ]
     },
     "execution_count": 24,
     "metadata": {},
     "output_type": "execute_result"
    }
   ],
   "source": [
    "customer_rel"
   ]
  },
  {
   "cell_type": "code",
   "execution_count": 22,
   "id": "829e725e",
   "metadata": {},
   "outputs": [
    {
     "name": "stdout",
     "output_type": "stream",
     "text": [
      "<class 'pandas.core.frame.DataFrame'>\n",
      "Int64Index: 196538 entries, 0 to 374871\n",
      "Data columns (total 3 columns):\n",
      "BASE_CUSTOMER_ID         196538 non-null int64\n",
      "VEHICLE_ID               196538 non-null int64\n",
      "FK_RELATION_STATUS_ID    196538 non-null int64\n",
      "dtypes: int64(3)\n",
      "memory usage: 6.0 MB\n"
     ]
    }
   ],
   "source": [
    "customer_rel.info()"
   ]
  },
  {
   "cell_type": "code",
   "execution_count": 23,
   "id": "af96cd2f",
   "metadata": {},
   "outputs": [
    {
     "data": {
      "text/plain": [
       "BASE_CUSTOMER_ID         int64\n",
       "VEHICLE_ID               int64\n",
       "FK_RELATION_STATUS_ID    int64\n",
       "dtype: object"
      ]
     },
     "execution_count": 23,
     "metadata": {},
     "output_type": "execute_result"
    }
   ],
   "source": [
    "customer_rel.dtypes"
   ]
  },
  {
   "cell_type": "code",
   "execution_count": 5,
   "id": "c9332029",
   "metadata": {},
   "outputs": [
    {
     "data": {
      "text/plain": [
       "Unnamed: 0                             0\n",
       "BASE_CUSTOMER_ID                       0\n",
       "VEHICLE_ID                             0\n",
       "START_DATE                             0\n",
       "END_DATE                          215122\n",
       "FK_RELATION_STATUS_ID                  0\n",
       "FK_RELATION_STATUS_EXPLANATION         0\n",
       "dtype: int64"
      ]
     },
     "execution_count": 5,
     "metadata": {},
     "output_type": "execute_result"
    }
   ],
   "source": [
    "customer_rel.isnull().sum()"
   ]
  },
  {
   "cell_type": "code",
   "execution_count": 6,
   "id": "a1768313",
   "metadata": {},
   "outputs": [],
   "source": [
    "# Tüm tekrar edenleri saptadım.\n",
    "customer_rel.duplicated('BASE_CUSTOMER_ID').sum()\n",
    "\n",
    "# Tekrar edenler silindi.\n",
    "customer_rel = customer_rel.drop_duplicates('BASE_CUSTOMER_ID')"
   ]
  },
  {
   "cell_type": "code",
   "execution_count": 7,
   "id": "dd67726c",
   "metadata": {},
   "outputs": [
    {
     "data": {
      "text/html": [
       "<div>\n",
       "<style scoped>\n",
       "    .dataframe tbody tr th:only-of-type {\n",
       "        vertical-align: middle;\n",
       "    }\n",
       "\n",
       "    .dataframe tbody tr th {\n",
       "        vertical-align: top;\n",
       "    }\n",
       "\n",
       "    .dataframe thead th {\n",
       "        text-align: right;\n",
       "    }\n",
       "</style>\n",
       "<table border=\"1\" class=\"dataframe\">\n",
       "  <thead>\n",
       "    <tr style=\"text-align: right;\">\n",
       "      <th></th>\n",
       "      <th>Unnamed: 0</th>\n",
       "      <th>BASE_CUSTOMER_ID</th>\n",
       "      <th>VEHICLE_ID</th>\n",
       "      <th>START_DATE</th>\n",
       "      <th>END_DATE</th>\n",
       "      <th>FK_RELATION_STATUS_ID</th>\n",
       "      <th>FK_RELATION_STATUS_EXPLANATION</th>\n",
       "    </tr>\n",
       "  </thead>\n",
       "  <tbody>\n",
       "    <tr>\n",
       "      <th>0</th>\n",
       "      <td>0</td>\n",
       "      <td>189537</td>\n",
       "      <td>5321560</td>\n",
       "      <td>2018-07-24</td>\n",
       "      <td>2019-07-03</td>\n",
       "      <td>2</td>\n",
       "      <td>Pasif Ruhsat Sahibi</td>\n",
       "    </tr>\n",
       "    <tr>\n",
       "      <th>1</th>\n",
       "      <td>1</td>\n",
       "      <td>110802</td>\n",
       "      <td>5329278</td>\n",
       "      <td>2019-07-16</td>\n",
       "      <td>NaN</td>\n",
       "      <td>1</td>\n",
       "      <td>Aktif Ruhsat Sahibi</td>\n",
       "    </tr>\n",
       "    <tr>\n",
       "      <th>2</th>\n",
       "      <td>2</td>\n",
       "      <td>160615</td>\n",
       "      <td>5329282</td>\n",
       "      <td>2019-09-12</td>\n",
       "      <td>NaN</td>\n",
       "      <td>1</td>\n",
       "      <td>Aktif Ruhsat Sahibi</td>\n",
       "    </tr>\n",
       "    <tr>\n",
       "      <th>3</th>\n",
       "      <td>3</td>\n",
       "      <td>115664</td>\n",
       "      <td>5328513</td>\n",
       "      <td>2019-02-25</td>\n",
       "      <td>NaN</td>\n",
       "      <td>1</td>\n",
       "      <td>Aktif Ruhsat Sahibi</td>\n",
       "    </tr>\n",
       "    <tr>\n",
       "      <th>4</th>\n",
       "      <td>4</td>\n",
       "      <td>81061</td>\n",
       "      <td>5322264</td>\n",
       "      <td>2018-04-16</td>\n",
       "      <td>NaN</td>\n",
       "      <td>1</td>\n",
       "      <td>Aktif Ruhsat Sahibi</td>\n",
       "    </tr>\n",
       "    <tr>\n",
       "      <th>...</th>\n",
       "      <td>...</td>\n",
       "      <td>...</td>\n",
       "      <td>...</td>\n",
       "      <td>...</td>\n",
       "      <td>...</td>\n",
       "      <td>...</td>\n",
       "      <td>...</td>\n",
       "    </tr>\n",
       "    <tr>\n",
       "      <th>374858</th>\n",
       "      <td>374858</td>\n",
       "      <td>22680</td>\n",
       "      <td>5172008</td>\n",
       "      <td>2014-07-08</td>\n",
       "      <td>NaN</td>\n",
       "      <td>1</td>\n",
       "      <td>Aktif Ruhsat Sahibi</td>\n",
       "    </tr>\n",
       "    <tr>\n",
       "      <th>374863</th>\n",
       "      <td>374863</td>\n",
       "      <td>124954</td>\n",
       "      <td>5174101</td>\n",
       "      <td>2010-06-30</td>\n",
       "      <td>NaN</td>\n",
       "      <td>1</td>\n",
       "      <td>Aktif Ruhsat Sahibi</td>\n",
       "    </tr>\n",
       "    <tr>\n",
       "      <th>374865</th>\n",
       "      <td>374865</td>\n",
       "      <td>167802</td>\n",
       "      <td>5174137</td>\n",
       "      <td>2010-07-05</td>\n",
       "      <td>NaN</td>\n",
       "      <td>1</td>\n",
       "      <td>Aktif Ruhsat Sahibi</td>\n",
       "    </tr>\n",
       "    <tr>\n",
       "      <th>374866</th>\n",
       "      <td>374866</td>\n",
       "      <td>163801</td>\n",
       "      <td>5174147</td>\n",
       "      <td>2015-12-17</td>\n",
       "      <td>2017-04-01</td>\n",
       "      <td>2</td>\n",
       "      <td>Pasif Ruhsat Sahibi</td>\n",
       "    </tr>\n",
       "    <tr>\n",
       "      <th>374871</th>\n",
       "      <td>374871</td>\n",
       "      <td>93551</td>\n",
       "      <td>5188087</td>\n",
       "      <td>2019-06-26</td>\n",
       "      <td>2019-06-29</td>\n",
       "      <td>2</td>\n",
       "      <td>Pasif Ruhsat Sahibi</td>\n",
       "    </tr>\n",
       "  </tbody>\n",
       "</table>\n",
       "<p>196538 rows × 7 columns</p>\n",
       "</div>"
      ],
      "text/plain": [
       "        Unnamed: 0  BASE_CUSTOMER_ID  VEHICLE_ID  START_DATE    END_DATE  \\\n",
       "0                0            189537     5321560  2018-07-24  2019-07-03   \n",
       "1                1            110802     5329278  2019-07-16         NaN   \n",
       "2                2            160615     5329282  2019-09-12         NaN   \n",
       "3                3            115664     5328513  2019-02-25         NaN   \n",
       "4                4             81061     5322264  2018-04-16         NaN   \n",
       "...            ...               ...         ...         ...         ...   \n",
       "374858      374858             22680     5172008  2014-07-08         NaN   \n",
       "374863      374863            124954     5174101  2010-06-30         NaN   \n",
       "374865      374865            167802     5174137  2010-07-05         NaN   \n",
       "374866      374866            163801     5174147  2015-12-17  2017-04-01   \n",
       "374871      374871             93551     5188087  2019-06-26  2019-06-29   \n",
       "\n",
       "        FK_RELATION_STATUS_ID FK_RELATION_STATUS_EXPLANATION  \n",
       "0                           2            Pasif Ruhsat Sahibi  \n",
       "1                           1            Aktif Ruhsat Sahibi  \n",
       "2                           1            Aktif Ruhsat Sahibi  \n",
       "3                           1            Aktif Ruhsat Sahibi  \n",
       "4                           1            Aktif Ruhsat Sahibi  \n",
       "...                       ...                            ...  \n",
       "374858                      1            Aktif Ruhsat Sahibi  \n",
       "374863                      1            Aktif Ruhsat Sahibi  \n",
       "374865                      1            Aktif Ruhsat Sahibi  \n",
       "374866                      2            Pasif Ruhsat Sahibi  \n",
       "374871                      2            Pasif Ruhsat Sahibi  \n",
       "\n",
       "[196538 rows x 7 columns]"
      ]
     },
     "execution_count": 7,
     "metadata": {},
     "output_type": "execute_result"
    }
   ],
   "source": [
    "customer_rel"
   ]
  },
  {
   "cell_type": "markdown",
   "id": "6324d07e",
   "metadata": {},
   "source": [
    "## Eşsizlik"
   ]
  },
  {
   "cell_type": "code",
   "execution_count": 8,
   "id": "12058536",
   "metadata": {},
   "outputs": [
    {
     "data": {
      "text/plain": [
       "array(['2018-07-24', '2019-07-16', '2019-09-12', ..., '2020-04-19',\n",
       "       '2006-09-24', '2007-08-05'], dtype=object)"
      ]
     },
     "execution_count": 8,
     "metadata": {},
     "output_type": "execute_result"
    }
   ],
   "source": [
    "pd.unique(customer_rel['START_DATE'])"
   ]
  },
  {
   "cell_type": "markdown",
   "id": "2de8ed79",
   "metadata": {},
   "source": [
    "## Values "
   ]
  },
  {
   "cell_type": "code",
   "execution_count": 9,
   "id": "d12e336e",
   "metadata": {},
   "outputs": [
    {
     "data": {
      "text/plain": [
       "2005-01-01    361\n",
       "2007-03-19    231\n",
       "2005-07-25    230\n",
       "2005-05-23    191\n",
       "2005-05-31    185\n",
       "             ... \n",
       "2015-06-28      1\n",
       "1999-09-19      1\n",
       "2002-01-08      1\n",
       "2009-11-01      1\n",
       "2017-02-12      1\n",
       "Name: START_DATE, Length: 7877, dtype: int64"
      ]
     },
     "execution_count": 9,
     "metadata": {},
     "output_type": "execute_result"
    }
   ],
   "source": [
    "customer_rel['START_DATE'].value_counts(dropna=True)"
   ]
  },
  {
   "cell_type": "markdown",
   "id": "7cd453ae",
   "metadata": {},
   "source": [
    "## Column Categorization"
   ]
  },
  {
   "cell_type": "markdown",
   "id": "b18db08f",
   "metadata": {},
   "source": [
    " - Gereksiz Sütunların Droplanması"
   ]
  },
  {
   "cell_type": "code",
   "execution_count": null,
   "id": "ffe72045",
   "metadata": {},
   "outputs": [],
   "source": [
    "customer_rel = customer_rel.drop(['FK_RELATION_STATUS_EXPLANATION'], axis=1)"
   ]
  },
  {
   "cell_type": "code",
   "execution_count": 11,
   "id": "2a42ea54",
   "metadata": {},
   "outputs": [],
   "source": [
    "customer_rel = customer_rel.drop(columns=['Unnamed: 0'])"
   ]
  },
  {
   "cell_type": "code",
   "execution_count": 13,
   "id": "38254960",
   "metadata": {},
   "outputs": [],
   "source": [
    "customer_rel = customer_rel.drop(columns=['START_DATE','END_DATE'])"
   ]
  },
  {
   "cell_type": "code",
   "execution_count": 14,
   "id": "6411ed21",
   "metadata": {},
   "outputs": [
    {
     "data": {
      "text/html": [
       "<div>\n",
       "<style scoped>\n",
       "    .dataframe tbody tr th:only-of-type {\n",
       "        vertical-align: middle;\n",
       "    }\n",
       "\n",
       "    .dataframe tbody tr th {\n",
       "        vertical-align: top;\n",
       "    }\n",
       "\n",
       "    .dataframe thead th {\n",
       "        text-align: right;\n",
       "    }\n",
       "</style>\n",
       "<table border=\"1\" class=\"dataframe\">\n",
       "  <thead>\n",
       "    <tr style=\"text-align: right;\">\n",
       "      <th></th>\n",
       "      <th>BASE_CUSTOMER_ID</th>\n",
       "      <th>VEHICLE_ID</th>\n",
       "      <th>FK_RELATION_STATUS_ID</th>\n",
       "    </tr>\n",
       "  </thead>\n",
       "  <tbody>\n",
       "    <tr>\n",
       "      <th>0</th>\n",
       "      <td>189537</td>\n",
       "      <td>5321560</td>\n",
       "      <td>2</td>\n",
       "    </tr>\n",
       "    <tr>\n",
       "      <th>1</th>\n",
       "      <td>110802</td>\n",
       "      <td>5329278</td>\n",
       "      <td>1</td>\n",
       "    </tr>\n",
       "    <tr>\n",
       "      <th>2</th>\n",
       "      <td>160615</td>\n",
       "      <td>5329282</td>\n",
       "      <td>1</td>\n",
       "    </tr>\n",
       "    <tr>\n",
       "      <th>3</th>\n",
       "      <td>115664</td>\n",
       "      <td>5328513</td>\n",
       "      <td>1</td>\n",
       "    </tr>\n",
       "    <tr>\n",
       "      <th>4</th>\n",
       "      <td>81061</td>\n",
       "      <td>5322264</td>\n",
       "      <td>1</td>\n",
       "    </tr>\n",
       "    <tr>\n",
       "      <th>...</th>\n",
       "      <td>...</td>\n",
       "      <td>...</td>\n",
       "      <td>...</td>\n",
       "    </tr>\n",
       "    <tr>\n",
       "      <th>374858</th>\n",
       "      <td>22680</td>\n",
       "      <td>5172008</td>\n",
       "      <td>1</td>\n",
       "    </tr>\n",
       "    <tr>\n",
       "      <th>374863</th>\n",
       "      <td>124954</td>\n",
       "      <td>5174101</td>\n",
       "      <td>1</td>\n",
       "    </tr>\n",
       "    <tr>\n",
       "      <th>374865</th>\n",
       "      <td>167802</td>\n",
       "      <td>5174137</td>\n",
       "      <td>1</td>\n",
       "    </tr>\n",
       "    <tr>\n",
       "      <th>374866</th>\n",
       "      <td>163801</td>\n",
       "      <td>5174147</td>\n",
       "      <td>2</td>\n",
       "    </tr>\n",
       "    <tr>\n",
       "      <th>374871</th>\n",
       "      <td>93551</td>\n",
       "      <td>5188087</td>\n",
       "      <td>2</td>\n",
       "    </tr>\n",
       "  </tbody>\n",
       "</table>\n",
       "<p>196538 rows × 3 columns</p>\n",
       "</div>"
      ],
      "text/plain": [
       "        BASE_CUSTOMER_ID  VEHICLE_ID  FK_RELATION_STATUS_ID\n",
       "0                 189537     5321560                      2\n",
       "1                 110802     5329278                      1\n",
       "2                 160615     5329282                      1\n",
       "3                 115664     5328513                      1\n",
       "4                  81061     5322264                      1\n",
       "...                  ...         ...                    ...\n",
       "374858             22680     5172008                      1\n",
       "374863            124954     5174101                      1\n",
       "374865            167802     5174137                      1\n",
       "374866            163801     5174147                      2\n",
       "374871             93551     5188087                      2\n",
       "\n",
       "[196538 rows x 3 columns]"
      ]
     },
     "execution_count": 14,
     "metadata": {},
     "output_type": "execute_result"
    }
   ],
   "source": [
    "customer_rel"
   ]
  },
  {
   "cell_type": "code",
   "execution_count": 26,
   "id": "4a000c45",
   "metadata": {},
   "outputs": [],
   "source": [
    "customer_rel.to_csv(\"customer_rel.csv\", index=False)"
   ]
  },
  {
   "cell_type": "markdown",
   "id": "ef61478e",
   "metadata": {},
   "source": [
    "# 4-) FINAL_SIFIR_ARAC_ALANLAR_DATATHON"
   ]
  },
  {
   "cell_type": "markdown",
   "id": "6e8e635e",
   "metadata": {},
   "source": [
    "## Genel Bilgiler"
   ]
  },
  {
   "cell_type": "code",
   "execution_count": 25,
   "id": "da24d973",
   "metadata": {},
   "outputs": [
    {
     "data": {
      "text/html": [
       "<div>\n",
       "<style scoped>\n",
       "    .dataframe tbody tr th:only-of-type {\n",
       "        vertical-align: middle;\n",
       "    }\n",
       "\n",
       "    .dataframe tbody tr th {\n",
       "        vertical-align: top;\n",
       "    }\n",
       "\n",
       "    .dataframe thead th {\n",
       "        text-align: right;\n",
       "    }\n",
       "</style>\n",
       "<table border=\"1\" class=\"dataframe\">\n",
       "  <thead>\n",
       "    <tr style=\"text-align: right;\">\n",
       "      <th></th>\n",
       "      <th>Unnamed: 0</th>\n",
       "      <th>VEHICLE_ID</th>\n",
       "      <th>CUSTOMER_ID</th>\n",
       "      <th>CREATE_DATE</th>\n",
       "    </tr>\n",
       "  </thead>\n",
       "  <tbody>\n",
       "    <tr>\n",
       "      <th>0</th>\n",
       "      <td>0</td>\n",
       "      <td>5015193</td>\n",
       "      <td>1063740</td>\n",
       "      <td>2005-01-01 19:08:33</td>\n",
       "    </tr>\n",
       "    <tr>\n",
       "      <th>1</th>\n",
       "      <td>1</td>\n",
       "      <td>5110231</td>\n",
       "      <td>1155678</td>\n",
       "      <td>2005-09-29 17:16:15</td>\n",
       "    </tr>\n",
       "    <tr>\n",
       "      <th>2</th>\n",
       "      <td>2</td>\n",
       "      <td>5290356</td>\n",
       "      <td>1737831</td>\n",
       "      <td>2016-04-29 13:12:10</td>\n",
       "    </tr>\n",
       "    <tr>\n",
       "      <th>3</th>\n",
       "      <td>3</td>\n",
       "      <td>5344576</td>\n",
       "      <td>1841362</td>\n",
       "      <td>2021-03-16 13:39:01</td>\n",
       "    </tr>\n",
       "    <tr>\n",
       "      <th>4</th>\n",
       "      <td>4</td>\n",
       "      <td>5094010</td>\n",
       "      <td>1066916</td>\n",
       "      <td>2005-04-20 09:51:19</td>\n",
       "    </tr>\n",
       "    <tr>\n",
       "      <th>...</th>\n",
       "      <td>...</td>\n",
       "      <td>...</td>\n",
       "      <td>...</td>\n",
       "      <td>...</td>\n",
       "    </tr>\n",
       "    <tr>\n",
       "      <th>169520</th>\n",
       "      <td>169520</td>\n",
       "      <td>5160829</td>\n",
       "      <td>1269016</td>\n",
       "      <td>2009-06-10 16:16:15</td>\n",
       "    </tr>\n",
       "    <tr>\n",
       "      <th>169521</th>\n",
       "      <td>169521</td>\n",
       "      <td>5098542</td>\n",
       "      <td>1157563</td>\n",
       "      <td>2005-08-01 12:07:57</td>\n",
       "    </tr>\n",
       "    <tr>\n",
       "      <th>169522</th>\n",
       "      <td>169522</td>\n",
       "      <td>5148086</td>\n",
       "      <td>1156732</td>\n",
       "      <td>2007-12-28 17:15:09</td>\n",
       "    </tr>\n",
       "    <tr>\n",
       "      <th>169523</th>\n",
       "      <td>169523</td>\n",
       "      <td>5263144</td>\n",
       "      <td>1032834</td>\n",
       "      <td>2015-06-24 11:19:15</td>\n",
       "    </tr>\n",
       "    <tr>\n",
       "      <th>169524</th>\n",
       "      <td>169524</td>\n",
       "      <td>5026911</td>\n",
       "      <td>1058351</td>\n",
       "      <td>2005-01-01 14:46:45</td>\n",
       "    </tr>\n",
       "  </tbody>\n",
       "</table>\n",
       "<p>169525 rows × 4 columns</p>\n",
       "</div>"
      ],
      "text/plain": [
       "        Unnamed: 0  VEHICLE_ID  CUSTOMER_ID          CREATE_DATE\n",
       "0                0     5015193      1063740  2005-01-01 19:08:33\n",
       "1                1     5110231      1155678  2005-09-29 17:16:15\n",
       "2                2     5290356      1737831  2016-04-29 13:12:10\n",
       "3                3     5344576      1841362  2021-03-16 13:39:01\n",
       "4                4     5094010      1066916  2005-04-20 09:51:19\n",
       "...            ...         ...          ...                  ...\n",
       "169520      169520     5160829      1269016  2009-06-10 16:16:15\n",
       "169521      169521     5098542      1157563  2005-08-01 12:07:57\n",
       "169522      169522     5148086      1156732  2007-12-28 17:15:09\n",
       "169523      169523     5263144      1032834  2015-06-24 11:19:15\n",
       "169524      169524     5026911      1058351  2005-01-01 14:46:45\n",
       "\n",
       "[169525 rows x 4 columns]"
      ]
     },
     "execution_count": 25,
     "metadata": {},
     "output_type": "execute_result"
    }
   ],
   "source": [
    "sifir_arac"
   ]
  },
  {
   "cell_type": "code",
   "execution_count": 15,
   "id": "2206d42b",
   "metadata": {},
   "outputs": [
    {
     "name": "stdout",
     "output_type": "stream",
     "text": [
      "<class 'pandas.core.frame.DataFrame'>\n",
      "RangeIndex: 169525 entries, 0 to 169524\n",
      "Data columns (total 4 columns):\n",
      "Unnamed: 0     169525 non-null int64\n",
      "VEHICLE_ID     169525 non-null int64\n",
      "CUSTOMER_ID    169525 non-null int64\n",
      "CREATE_DATE    169525 non-null object\n",
      "dtypes: int64(3), object(1)\n",
      "memory usage: 5.2+ MB\n"
     ]
    }
   ],
   "source": [
    "sifir_arac.info()"
   ]
  },
  {
   "cell_type": "markdown",
   "id": "8301c070",
   "metadata": {},
   "source": [
    "## Eşsizlik"
   ]
  },
  {
   "cell_type": "code",
   "execution_count": 27,
   "id": "2e5c55c1",
   "metadata": {},
   "outputs": [
    {
     "data": {
      "text/plain": [
       "array(['2005-01-01 19:08:33', '2005-09-29 17:16:15',\n",
       "       '2016-04-29 13:12:10', ..., '2005-08-01 12:07:57',\n",
       "       '2007-12-28 17:15:09', '2015-06-24 11:19:15'], dtype=object)"
      ]
     },
     "execution_count": 27,
     "metadata": {},
     "output_type": "execute_result"
    }
   ],
   "source": [
    "pd.unique(sifir_arac['CREATE_DATE'])"
   ]
  },
  {
   "cell_type": "markdown",
   "id": "190c3328",
   "metadata": {},
   "source": [
    "## Values"
   ]
  },
  {
   "cell_type": "code",
   "execution_count": null,
   "id": "3062b06e",
   "metadata": {},
   "outputs": [],
   "source": [
    "## GEREK YOK."
   ]
  },
  {
   "cell_type": "markdown",
   "id": "f691ea0a",
   "metadata": {},
   "source": [
    "## Column Categorization"
   ]
  },
  {
   "cell_type": "code",
   "execution_count": null,
   "id": "363b4cff",
   "metadata": {},
   "outputs": [],
   "source": [
    "## GEREK YOK."
   ]
  },
  {
   "cell_type": "code",
   "execution_count": 28,
   "id": "eb93735a",
   "metadata": {},
   "outputs": [],
   "source": [
    "sifir_arac.to_csv(\"sifir_arac.csv\", index=False)"
   ]
  },
  {
   "cell_type": "code",
   "execution_count": null,
   "id": "56dd4d22",
   "metadata": {},
   "outputs": [],
   "source": []
  }
 ],
 "metadata": {
  "kernelspec": {
   "display_name": "myfirstenv",
   "language": "python",
   "name": "myfirstenv"
  },
  "language_info": {
   "codemirror_mode": {
    "name": "ipython",
    "version": 3
   },
   "file_extension": ".py",
   "mimetype": "text/x-python",
   "name": "python",
   "nbconvert_exporter": "python",
   "pygments_lexer": "ipython3",
   "version": "3.7.11"
  }
 },
 "nbformat": 4,
 "nbformat_minor": 5
}
