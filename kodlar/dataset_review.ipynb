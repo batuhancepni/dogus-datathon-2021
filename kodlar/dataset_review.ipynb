{
 "cells": [
  {
   "cell_type": "code",
   "execution_count": 1,
   "id": "6f19ced0",
   "metadata": {},
   "outputs": [],
   "source": [
    "import os\n",
    "\n",
    "PATH = os.path.join('datasets')"
   ]
  },
  {
   "cell_type": "code",
   "execution_count": 2,
   "id": "c77a5fbb",
   "metadata": {},
   "outputs": [],
   "source": [
    "import pandas as pd\n",
    "\n",
    "def load_data(filename, path=PATH):\n",
    "    csv_path = os.path.join(path, filename)\n",
    "    return pd.read_csv(csv_path)\n",
    "\n",
    "def percent(data):\n",
    "    total = data.isnull().sum().sort_values(ascending=False)\n",
    "    percent_1 = data.isnull().sum()/data.isnull().count()*100\n",
    "    percent_2 = (round(percent_1, 1)).sort_values(ascending=False)\n",
    "    missing_data = pd.concat([total, percent_2], axis=1, keys=['Total', '%'])\n",
    "    return missing_data.head()"
   ]
  },
  {
   "cell_type": "code",
   "execution_count": 3,
   "id": "2583d2f4",
   "metadata": {},
   "outputs": [],
   "source": [
    "customer = load_data(\"FINAL_CUSTOMER_DATATHON.csv\")\n",
    "customer_rel = load_data(\"FINAL_CUSTOMER_RELATED_TABLE_FOR_DATATHON.csv\")\n",
    "sales = load_data(\"FINAL_SALES_FILE_DATATHON.csv\")\n",
    "sifir = load_data(\"FINAL_SIFIR_ARAC_ALANLAR_DATATHON.csv\")\n",
    "vehicle = load_data(\"FINAL_VEHICLE_TABLE_DATATHON.csv\")\n",
    "servis = load_data(\"MASK_SERVIS_BAKIM_DATATHON_FINAL.csv\")"
   ]
  },
  {
   "cell_type": "markdown",
   "id": "dc505096",
   "metadata": {},
   "source": [
    "# Customer Data"
   ]
  },
  {
   "cell_type": "code",
   "execution_count": 4,
   "id": "ec725cdc",
   "metadata": {},
   "outputs": [
    {
     "data": {
      "text/html": [
       "<div>\n",
       "<style scoped>\n",
       "    .dataframe tbody tr th:only-of-type {\n",
       "        vertical-align: middle;\n",
       "    }\n",
       "\n",
       "    .dataframe tbody tr th {\n",
       "        vertical-align: top;\n",
       "    }\n",
       "\n",
       "    .dataframe thead th {\n",
       "        text-align: right;\n",
       "    }\n",
       "</style>\n",
       "<table border=\"1\" class=\"dataframe\">\n",
       "  <thead>\n",
       "    <tr style=\"text-align: right;\">\n",
       "      <th></th>\n",
       "      <th>Unnamed: 0</th>\n",
       "      <th>BASE_CUSTOMER_ID</th>\n",
       "      <th>CUSTOMER_ID</th>\n",
       "      <th>GENDER</th>\n",
       "      <th>GENDER_ID</th>\n",
       "      <th>MARITAL_STATUS</th>\n",
       "      <th>MARITAL_STATUS_ID</th>\n",
       "      <th>BIRTH_DATE</th>\n",
       "      <th>FK_ADDRESS_COMMUNICATION_CITY</th>\n",
       "      <th>OCCUPATION</th>\n",
       "    </tr>\n",
       "  </thead>\n",
       "  <tbody>\n",
       "    <tr>\n",
       "      <th>0</th>\n",
       "      <td>0</td>\n",
       "      <td>158891.0</td>\n",
       "      <td>1747700.0</td>\n",
       "      <td>Erkek</td>\n",
       "      <td>100.0</td>\n",
       "      <td>NaN</td>\n",
       "      <td>0.0</td>\n",
       "      <td>NaN</td>\n",
       "      <td>NaN</td>\n",
       "      <td>NaN</td>\n",
       "    </tr>\n",
       "    <tr>\n",
       "      <th>1</th>\n",
       "      <td>1</td>\n",
       "      <td>169233.0</td>\n",
       "      <td>1710561.0</td>\n",
       "      <td>Erkek</td>\n",
       "      <td>100.0</td>\n",
       "      <td>Evli</td>\n",
       "      <td>101.0</td>\n",
       "      <td>1962.0</td>\n",
       "      <td>Erzurum</td>\n",
       "      <td>Öğretmen / Eğitmen</td>\n",
       "    </tr>\n",
       "    <tr>\n",
       "      <th>2</th>\n",
       "      <td>2</td>\n",
       "      <td>30887.0</td>\n",
       "      <td>1043923.0</td>\n",
       "      <td>Erkek</td>\n",
       "      <td>100.0</td>\n",
       "      <td>Evli</td>\n",
       "      <td>101.0</td>\n",
       "      <td>1971.0</td>\n",
       "      <td>İstanbul</td>\n",
       "      <td>Esnaf</td>\n",
       "    </tr>\n",
       "    <tr>\n",
       "      <th>3</th>\n",
       "      <td>3</td>\n",
       "      <td>38013.0</td>\n",
       "      <td>1101926.0</td>\n",
       "      <td>Erkek</td>\n",
       "      <td>100.0</td>\n",
       "      <td>NaN</td>\n",
       "      <td>0.0</td>\n",
       "      <td>NaN</td>\n",
       "      <td>Manisa</td>\n",
       "      <td>NaN</td>\n",
       "    </tr>\n",
       "    <tr>\n",
       "      <th>4</th>\n",
       "      <td>4</td>\n",
       "      <td>157091.0</td>\n",
       "      <td>1819787.0</td>\n",
       "      <td>Kadın</td>\n",
       "      <td>101.0</td>\n",
       "      <td>NaN</td>\n",
       "      <td>0.0</td>\n",
       "      <td>NaN</td>\n",
       "      <td>Ankara</td>\n",
       "      <td>NaN</td>\n",
       "    </tr>\n",
       "  </tbody>\n",
       "</table>\n",
       "</div>"
      ],
      "text/plain": [
       "  Unnamed: 0  BASE_CUSTOMER_ID  CUSTOMER_ID GENDER  GENDER_ID MARITAL_STATUS  \\\n",
       "0          0          158891.0    1747700.0  Erkek      100.0            NaN   \n",
       "1          1          169233.0    1710561.0  Erkek      100.0           Evli   \n",
       "2          2           30887.0    1043923.0  Erkek      100.0           Evli   \n",
       "3          3           38013.0    1101926.0  Erkek      100.0            NaN   \n",
       "4          4          157091.0    1819787.0  Kadın      101.0            NaN   \n",
       "\n",
       "   MARITAL_STATUS_ID  BIRTH_DATE FK_ADDRESS_COMMUNICATION_CITY  \\\n",
       "0                0.0         NaN                           NaN   \n",
       "1              101.0      1962.0                       Erzurum   \n",
       "2              101.0      1971.0                      İstanbul   \n",
       "3                0.0         NaN                        Manisa   \n",
       "4                0.0         NaN                        Ankara   \n",
       "\n",
       "           OCCUPATION  \n",
       "0                 NaN  \n",
       "1  Öğretmen / Eğitmen  \n",
       "2               Esnaf  \n",
       "3                 NaN  \n",
       "4                 NaN  "
      ]
     },
     "execution_count": 4,
     "metadata": {},
     "output_type": "execute_result"
    }
   ],
   "source": [
    "customer.head()"
   ]
  },
  {
   "cell_type": "code",
   "execution_count": 5,
   "id": "a52c2e38",
   "metadata": {},
   "outputs": [
    {
     "name": "stdout",
     "output_type": "stream",
     "text": [
      "<class 'pandas.core.frame.DataFrame'>\n",
      "RangeIndex: 849919 entries, 0 to 849918\n",
      "Data columns (total 10 columns):\n",
      " #   Column                         Non-Null Count   Dtype  \n",
      "---  ------                         --------------   -----  \n",
      " 0   Unnamed: 0                     849919 non-null  object \n",
      " 1   BASE_CUSTOMER_ID               849215 non-null  float64\n",
      " 2   CUSTOMER_ID                    849215 non-null  float64\n",
      " 3   GENDER                         849212 non-null  object \n",
      " 4   GENDER_ID                      849215 non-null  float64\n",
      " 5   MARITAL_STATUS                 620104 non-null  object \n",
      " 6   MARITAL_STATUS_ID              849215 non-null  float64\n",
      " 7   BIRTH_DATE                     644744 non-null  float64\n",
      " 8   FK_ADDRESS_COMMUNICATION_CITY  729651 non-null  object \n",
      " 9   OCCUPATION                     380348 non-null  object \n",
      "dtypes: float64(5), object(5)\n",
      "memory usage: 64.8+ MB\n"
     ]
    }
   ],
   "source": [
    "customer.info()"
   ]
  },
  {
   "cell_type": "code",
   "execution_count": 6,
   "id": "12dbd424",
   "metadata": {},
   "outputs": [
    {
     "data": {
      "text/html": [
       "<div>\n",
       "<style scoped>\n",
       "    .dataframe tbody tr th:only-of-type {\n",
       "        vertical-align: middle;\n",
       "    }\n",
       "\n",
       "    .dataframe tbody tr th {\n",
       "        vertical-align: top;\n",
       "    }\n",
       "\n",
       "    .dataframe thead th {\n",
       "        text-align: right;\n",
       "    }\n",
       "</style>\n",
       "<table border=\"1\" class=\"dataframe\">\n",
       "  <thead>\n",
       "    <tr style=\"text-align: right;\">\n",
       "      <th></th>\n",
       "      <th>Total</th>\n",
       "      <th>%</th>\n",
       "    </tr>\n",
       "  </thead>\n",
       "  <tbody>\n",
       "    <tr>\n",
       "      <th>OCCUPATION</th>\n",
       "      <td>469571</td>\n",
       "      <td>55.2</td>\n",
       "    </tr>\n",
       "    <tr>\n",
       "      <th>MARITAL_STATUS</th>\n",
       "      <td>229815</td>\n",
       "      <td>27.0</td>\n",
       "    </tr>\n",
       "    <tr>\n",
       "      <th>BIRTH_DATE</th>\n",
       "      <td>205175</td>\n",
       "      <td>24.1</td>\n",
       "    </tr>\n",
       "    <tr>\n",
       "      <th>FK_ADDRESS_COMMUNICATION_CITY</th>\n",
       "      <td>120268</td>\n",
       "      <td>14.2</td>\n",
       "    </tr>\n",
       "    <tr>\n",
       "      <th>GENDER</th>\n",
       "      <td>707</td>\n",
       "      <td>0.1</td>\n",
       "    </tr>\n",
       "  </tbody>\n",
       "</table>\n",
       "</div>"
      ],
      "text/plain": [
       "                                Total     %\n",
       "OCCUPATION                     469571  55.2\n",
       "MARITAL_STATUS                 229815  27.0\n",
       "BIRTH_DATE                     205175  24.1\n",
       "FK_ADDRESS_COMMUNICATION_CITY  120268  14.2\n",
       "GENDER                            707   0.1"
      ]
     },
     "execution_count": 6,
     "metadata": {},
     "output_type": "execute_result"
    }
   ],
   "source": [
    "percent(customer)"
   ]
  },
  {
   "cell_type": "code",
   "execution_count": 7,
   "id": "601311c7",
   "metadata": {},
   "outputs": [
    {
     "data": {
      "text/plain": [
       "array(['Unnamed: 0', 'BASE_CUSTOMER_ID', 'CUSTOMER_ID', 'GENDER',\n",
       "       'GENDER_ID', 'MARITAL_STATUS', 'MARITAL_STATUS_ID', 'BIRTH_DATE',\n",
       "       'FK_ADDRESS_COMMUNICATION_CITY', 'OCCUPATION'], dtype=object)"
      ]
     },
     "execution_count": 7,
     "metadata": {},
     "output_type": "execute_result"
    }
   ],
   "source": [
    "customer.columns.values"
   ]
  },
  {
   "cell_type": "markdown",
   "id": "f921e99b",
   "metadata": {},
   "source": [
    "# Customer Related Data"
   ]
  },
  {
   "cell_type": "code",
   "execution_count": 8,
   "id": "61ed1bd9",
   "metadata": {},
   "outputs": [
    {
     "data": {
      "text/html": [
       "<div>\n",
       "<style scoped>\n",
       "    .dataframe tbody tr th:only-of-type {\n",
       "        vertical-align: middle;\n",
       "    }\n",
       "\n",
       "    .dataframe tbody tr th {\n",
       "        vertical-align: top;\n",
       "    }\n",
       "\n",
       "    .dataframe thead th {\n",
       "        text-align: right;\n",
       "    }\n",
       "</style>\n",
       "<table border=\"1\" class=\"dataframe\">\n",
       "  <thead>\n",
       "    <tr style=\"text-align: right;\">\n",
       "      <th></th>\n",
       "      <th>Unnamed: 0</th>\n",
       "      <th>BASE_CUSTOMER_ID</th>\n",
       "      <th>VEHICLE_ID</th>\n",
       "      <th>START_DATE</th>\n",
       "      <th>END_DATE</th>\n",
       "      <th>FK_RELATION_STATUS_ID</th>\n",
       "      <th>FK_RELATION_STATUS_EXPLANATION</th>\n",
       "    </tr>\n",
       "  </thead>\n",
       "  <tbody>\n",
       "    <tr>\n",
       "      <th>0</th>\n",
       "      <td>0</td>\n",
       "      <td>189537</td>\n",
       "      <td>5321560</td>\n",
       "      <td>2018-07-24</td>\n",
       "      <td>2019-07-03</td>\n",
       "      <td>2</td>\n",
       "      <td>Pasif Ruhsat Sahibi</td>\n",
       "    </tr>\n",
       "    <tr>\n",
       "      <th>1</th>\n",
       "      <td>1</td>\n",
       "      <td>110802</td>\n",
       "      <td>5329278</td>\n",
       "      <td>2019-07-16</td>\n",
       "      <td>NaN</td>\n",
       "      <td>1</td>\n",
       "      <td>Aktif Ruhsat Sahibi</td>\n",
       "    </tr>\n",
       "    <tr>\n",
       "      <th>2</th>\n",
       "      <td>2</td>\n",
       "      <td>160615</td>\n",
       "      <td>5329282</td>\n",
       "      <td>2019-09-12</td>\n",
       "      <td>NaN</td>\n",
       "      <td>1</td>\n",
       "      <td>Aktif Ruhsat Sahibi</td>\n",
       "    </tr>\n",
       "    <tr>\n",
       "      <th>3</th>\n",
       "      <td>3</td>\n",
       "      <td>115664</td>\n",
       "      <td>5328513</td>\n",
       "      <td>2019-02-25</td>\n",
       "      <td>NaN</td>\n",
       "      <td>1</td>\n",
       "      <td>Aktif Ruhsat Sahibi</td>\n",
       "    </tr>\n",
       "    <tr>\n",
       "      <th>4</th>\n",
       "      <td>4</td>\n",
       "      <td>81061</td>\n",
       "      <td>5322264</td>\n",
       "      <td>2018-04-16</td>\n",
       "      <td>NaN</td>\n",
       "      <td>1</td>\n",
       "      <td>Aktif Ruhsat Sahibi</td>\n",
       "    </tr>\n",
       "  </tbody>\n",
       "</table>\n",
       "</div>"
      ],
      "text/plain": [
       "   Unnamed: 0  BASE_CUSTOMER_ID  VEHICLE_ID  START_DATE    END_DATE  \\\n",
       "0           0            189537     5321560  2018-07-24  2019-07-03   \n",
       "1           1            110802     5329278  2019-07-16         NaN   \n",
       "2           2            160615     5329282  2019-09-12         NaN   \n",
       "3           3            115664     5328513  2019-02-25         NaN   \n",
       "4           4             81061     5322264  2018-04-16         NaN   \n",
       "\n",
       "   FK_RELATION_STATUS_ID FK_RELATION_STATUS_EXPLANATION  \n",
       "0                      2            Pasif Ruhsat Sahibi  \n",
       "1                      1            Aktif Ruhsat Sahibi  \n",
       "2                      1            Aktif Ruhsat Sahibi  \n",
       "3                      1            Aktif Ruhsat Sahibi  \n",
       "4                      1            Aktif Ruhsat Sahibi  "
      ]
     },
     "execution_count": 8,
     "metadata": {},
     "output_type": "execute_result"
    }
   ],
   "source": [
    "customer_rel.head()"
   ]
  },
  {
   "cell_type": "code",
   "execution_count": 9,
   "id": "05b5e7bd",
   "metadata": {
    "scrolled": true
   },
   "outputs": [
    {
     "name": "stdout",
     "output_type": "stream",
     "text": [
      "<class 'pandas.core.frame.DataFrame'>\n",
      "RangeIndex: 374879 entries, 0 to 374878\n",
      "Data columns (total 7 columns):\n",
      " #   Column                          Non-Null Count   Dtype \n",
      "---  ------                          --------------   ----- \n",
      " 0   Unnamed: 0                      374879 non-null  int64 \n",
      " 1   BASE_CUSTOMER_ID                374879 non-null  int64 \n",
      " 2   VEHICLE_ID                      374879 non-null  int64 \n",
      " 3   START_DATE                      374879 non-null  object\n",
      " 4   END_DATE                        159757 non-null  object\n",
      " 5   FK_RELATION_STATUS_ID           374879 non-null  int64 \n",
      " 6   FK_RELATION_STATUS_EXPLANATION  374879 non-null  object\n",
      "dtypes: int64(4), object(3)\n",
      "memory usage: 20.0+ MB\n"
     ]
    }
   ],
   "source": [
    "customer_rel.info()"
   ]
  },
  {
   "cell_type": "code",
   "execution_count": 10,
   "id": "1469c34c",
   "metadata": {},
   "outputs": [
    {
     "data": {
      "text/html": [
       "<div>\n",
       "<style scoped>\n",
       "    .dataframe tbody tr th:only-of-type {\n",
       "        vertical-align: middle;\n",
       "    }\n",
       "\n",
       "    .dataframe tbody tr th {\n",
       "        vertical-align: top;\n",
       "    }\n",
       "\n",
       "    .dataframe thead th {\n",
       "        text-align: right;\n",
       "    }\n",
       "</style>\n",
       "<table border=\"1\" class=\"dataframe\">\n",
       "  <thead>\n",
       "    <tr style=\"text-align: right;\">\n",
       "      <th></th>\n",
       "      <th>Total</th>\n",
       "      <th>%</th>\n",
       "    </tr>\n",
       "  </thead>\n",
       "  <tbody>\n",
       "    <tr>\n",
       "      <th>END_DATE</th>\n",
       "      <td>215122</td>\n",
       "      <td>57.4</td>\n",
       "    </tr>\n",
       "    <tr>\n",
       "      <th>Unnamed: 0</th>\n",
       "      <td>0</td>\n",
       "      <td>0.0</td>\n",
       "    </tr>\n",
       "    <tr>\n",
       "      <th>BASE_CUSTOMER_ID</th>\n",
       "      <td>0</td>\n",
       "      <td>0.0</td>\n",
       "    </tr>\n",
       "    <tr>\n",
       "      <th>VEHICLE_ID</th>\n",
       "      <td>0</td>\n",
       "      <td>0.0</td>\n",
       "    </tr>\n",
       "    <tr>\n",
       "      <th>START_DATE</th>\n",
       "      <td>0</td>\n",
       "      <td>0.0</td>\n",
       "    </tr>\n",
       "  </tbody>\n",
       "</table>\n",
       "</div>"
      ],
      "text/plain": [
       "                   Total     %\n",
       "END_DATE          215122  57.4\n",
       "Unnamed: 0             0   0.0\n",
       "BASE_CUSTOMER_ID       0   0.0\n",
       "VEHICLE_ID             0   0.0\n",
       "START_DATE             0   0.0"
      ]
     },
     "execution_count": 10,
     "metadata": {},
     "output_type": "execute_result"
    }
   ],
   "source": [
    "percent(customer_rel)"
   ]
  },
  {
   "cell_type": "code",
   "execution_count": 11,
   "id": "52d08557",
   "metadata": {},
   "outputs": [
    {
     "data": {
      "text/plain": [
       "array(['Unnamed: 0', 'BASE_CUSTOMER_ID', 'VEHICLE_ID', 'START_DATE',\n",
       "       'END_DATE', 'FK_RELATION_STATUS_ID',\n",
       "       'FK_RELATION_STATUS_EXPLANATION'], dtype=object)"
      ]
     },
     "execution_count": 11,
     "metadata": {},
     "output_type": "execute_result"
    }
   ],
   "source": [
    "customer_rel.columns.values"
   ]
  },
  {
   "cell_type": "markdown",
   "id": "606889d8",
   "metadata": {},
   "source": [
    "# Sales Data"
   ]
  },
  {
   "cell_type": "code",
   "execution_count": 12,
   "id": "3cfd463c",
   "metadata": {},
   "outputs": [
    {
     "data": {
      "text/html": [
       "<div>\n",
       "<style scoped>\n",
       "    .dataframe tbody tr th:only-of-type {\n",
       "        vertical-align: middle;\n",
       "    }\n",
       "\n",
       "    .dataframe tbody tr th {\n",
       "        vertical-align: top;\n",
       "    }\n",
       "\n",
       "    .dataframe thead th {\n",
       "        text-align: right;\n",
       "    }\n",
       "</style>\n",
       "<table border=\"1\" class=\"dataframe\">\n",
       "  <thead>\n",
       "    <tr style=\"text-align: right;\">\n",
       "      <th></th>\n",
       "      <th>Unnamed: 0</th>\n",
       "      <th>CUSTOMER_ID</th>\n",
       "      <th>SALESFILE_ID</th>\n",
       "      <th>SF_CREATE_DATE</th>\n",
       "      <th>STATUS</th>\n",
       "      <th>REQ_BRAND_CODE</th>\n",
       "      <th>REQ_TOPMODEL_CODE</th>\n",
       "    </tr>\n",
       "  </thead>\n",
       "  <tbody>\n",
       "    <tr>\n",
       "      <th>0</th>\n",
       "      <td>0</td>\n",
       "      <td>1712792</td>\n",
       "      <td>7274467.0</td>\n",
       "      <td>2017-11-17 12:15:39</td>\n",
       "      <td>101</td>\n",
       "      <td>Y</td>\n",
       "      <td>9231.0</td>\n",
       "    </tr>\n",
       "    <tr>\n",
       "      <th>1</th>\n",
       "      <td>1</td>\n",
       "      <td>1149729</td>\n",
       "      <td>4839430.0</td>\n",
       "      <td>2015-11-11 17:03:28</td>\n",
       "      <td>102</td>\n",
       "      <td>K</td>\n",
       "      <td>9184.0</td>\n",
       "    </tr>\n",
       "    <tr>\n",
       "      <th>2</th>\n",
       "      <td>2</td>\n",
       "      <td>1697993</td>\n",
       "      <td>4847398.0</td>\n",
       "      <td>2015-11-14 11:15:51</td>\n",
       "      <td>102</td>\n",
       "      <td>Y</td>\n",
       "      <td>9231.0</td>\n",
       "    </tr>\n",
       "    <tr>\n",
       "      <th>3</th>\n",
       "      <td>3</td>\n",
       "      <td>1680258</td>\n",
       "      <td>3817349.0</td>\n",
       "      <td>2014-12-23 17:26:09</td>\n",
       "      <td>105</td>\n",
       "      <td>Y</td>\n",
       "      <td>9362.0</td>\n",
       "    </tr>\n",
       "    <tr>\n",
       "      <th>4</th>\n",
       "      <td>4</td>\n",
       "      <td>1244973</td>\n",
       "      <td>8079074.0</td>\n",
       "      <td>2018-08-28 12:55:04</td>\n",
       "      <td>101</td>\n",
       "      <td>K</td>\n",
       "      <td>9901.0</td>\n",
       "    </tr>\n",
       "  </tbody>\n",
       "</table>\n",
       "</div>"
      ],
      "text/plain": [
       "   Unnamed: 0  CUSTOMER_ID  SALESFILE_ID       SF_CREATE_DATE  STATUS  \\\n",
       "0           0      1712792     7274467.0  2017-11-17 12:15:39     101   \n",
       "1           1      1149729     4839430.0  2015-11-11 17:03:28     102   \n",
       "2           2      1697993     4847398.0  2015-11-14 11:15:51     102   \n",
       "3           3      1680258     3817349.0  2014-12-23 17:26:09     105   \n",
       "4           4      1244973     8079074.0  2018-08-28 12:55:04     101   \n",
       "\n",
       "  REQ_BRAND_CODE  REQ_TOPMODEL_CODE  \n",
       "0              Y             9231.0  \n",
       "1              K             9184.0  \n",
       "2              Y             9231.0  \n",
       "3              Y             9362.0  \n",
       "4              K             9901.0  "
      ]
     },
     "execution_count": 12,
     "metadata": {},
     "output_type": "execute_result"
    }
   ],
   "source": [
    "sales.head()"
   ]
  },
  {
   "cell_type": "code",
   "execution_count": 13,
   "id": "460d9536",
   "metadata": {},
   "outputs": [
    {
     "name": "stdout",
     "output_type": "stream",
     "text": [
      "<class 'pandas.core.frame.DataFrame'>\n",
      "RangeIndex: 397526 entries, 0 to 397525\n",
      "Data columns (total 7 columns):\n",
      " #   Column             Non-Null Count   Dtype  \n",
      "---  ------             --------------   -----  \n",
      " 0   Unnamed: 0         397526 non-null  int64  \n",
      " 1   CUSTOMER_ID        397526 non-null  int64  \n",
      " 2   SALESFILE_ID       397526 non-null  float64\n",
      " 3   SF_CREATE_DATE     397526 non-null  object \n",
      " 4   STATUS             397526 non-null  int64  \n",
      " 5   REQ_BRAND_CODE     397526 non-null  object \n",
      " 6   REQ_TOPMODEL_CODE  397237 non-null  float64\n",
      "dtypes: float64(2), int64(3), object(2)\n",
      "memory usage: 21.2+ MB\n"
     ]
    }
   ],
   "source": [
    "sales.info()"
   ]
  },
  {
   "cell_type": "code",
   "execution_count": 14,
   "id": "7d312c37",
   "metadata": {},
   "outputs": [
    {
     "data": {
      "text/html": [
       "<div>\n",
       "<style scoped>\n",
       "    .dataframe tbody tr th:only-of-type {\n",
       "        vertical-align: middle;\n",
       "    }\n",
       "\n",
       "    .dataframe tbody tr th {\n",
       "        vertical-align: top;\n",
       "    }\n",
       "\n",
       "    .dataframe thead th {\n",
       "        text-align: right;\n",
       "    }\n",
       "</style>\n",
       "<table border=\"1\" class=\"dataframe\">\n",
       "  <thead>\n",
       "    <tr style=\"text-align: right;\">\n",
       "      <th></th>\n",
       "      <th>Total</th>\n",
       "      <th>%</th>\n",
       "    </tr>\n",
       "  </thead>\n",
       "  <tbody>\n",
       "    <tr>\n",
       "      <th>REQ_TOPMODEL_CODE</th>\n",
       "      <td>289</td>\n",
       "      <td>0.1</td>\n",
       "    </tr>\n",
       "    <tr>\n",
       "      <th>Unnamed: 0</th>\n",
       "      <td>0</td>\n",
       "      <td>0.0</td>\n",
       "    </tr>\n",
       "    <tr>\n",
       "      <th>CUSTOMER_ID</th>\n",
       "      <td>0</td>\n",
       "      <td>0.0</td>\n",
       "    </tr>\n",
       "    <tr>\n",
       "      <th>SALESFILE_ID</th>\n",
       "      <td>0</td>\n",
       "      <td>0.0</td>\n",
       "    </tr>\n",
       "    <tr>\n",
       "      <th>SF_CREATE_DATE</th>\n",
       "      <td>0</td>\n",
       "      <td>0.0</td>\n",
       "    </tr>\n",
       "  </tbody>\n",
       "</table>\n",
       "</div>"
      ],
      "text/plain": [
       "                   Total    %\n",
       "REQ_TOPMODEL_CODE    289  0.1\n",
       "Unnamed: 0             0  0.0\n",
       "CUSTOMER_ID            0  0.0\n",
       "SALESFILE_ID           0  0.0\n",
       "SF_CREATE_DATE         0  0.0"
      ]
     },
     "execution_count": 14,
     "metadata": {},
     "output_type": "execute_result"
    }
   ],
   "source": [
    "percent(sales)"
   ]
  },
  {
   "cell_type": "code",
   "execution_count": 15,
   "id": "8e1c4589",
   "metadata": {},
   "outputs": [
    {
     "data": {
      "text/plain": [
       "array(['Unnamed: 0', 'CUSTOMER_ID', 'SALESFILE_ID', 'SF_CREATE_DATE',\n",
       "       'STATUS', 'REQ_BRAND_CODE', 'REQ_TOPMODEL_CODE'], dtype=object)"
      ]
     },
     "execution_count": 15,
     "metadata": {},
     "output_type": "execute_result"
    }
   ],
   "source": [
    "sales.columns.values"
   ]
  },
  {
   "cell_type": "markdown",
   "id": "ead9bfed",
   "metadata": {},
   "source": [
    "# Sıfır Araç Data"
   ]
  },
  {
   "cell_type": "code",
   "execution_count": 16,
   "id": "32b7626a",
   "metadata": {},
   "outputs": [
    {
     "data": {
      "text/html": [
       "<div>\n",
       "<style scoped>\n",
       "    .dataframe tbody tr th:only-of-type {\n",
       "        vertical-align: middle;\n",
       "    }\n",
       "\n",
       "    .dataframe tbody tr th {\n",
       "        vertical-align: top;\n",
       "    }\n",
       "\n",
       "    .dataframe thead th {\n",
       "        text-align: right;\n",
       "    }\n",
       "</style>\n",
       "<table border=\"1\" class=\"dataframe\">\n",
       "  <thead>\n",
       "    <tr style=\"text-align: right;\">\n",
       "      <th></th>\n",
       "      <th>Unnamed: 0</th>\n",
       "      <th>VEHICLE_ID</th>\n",
       "      <th>CUSTOMER_ID</th>\n",
       "      <th>CREATE_DATE</th>\n",
       "    </tr>\n",
       "  </thead>\n",
       "  <tbody>\n",
       "    <tr>\n",
       "      <th>0</th>\n",
       "      <td>0</td>\n",
       "      <td>5015193</td>\n",
       "      <td>1063740</td>\n",
       "      <td>2005-01-01 19:08:33</td>\n",
       "    </tr>\n",
       "    <tr>\n",
       "      <th>1</th>\n",
       "      <td>1</td>\n",
       "      <td>5110231</td>\n",
       "      <td>1155678</td>\n",
       "      <td>2005-09-29 17:16:15</td>\n",
       "    </tr>\n",
       "    <tr>\n",
       "      <th>2</th>\n",
       "      <td>2</td>\n",
       "      <td>5290356</td>\n",
       "      <td>1737831</td>\n",
       "      <td>2016-04-29 13:12:10</td>\n",
       "    </tr>\n",
       "    <tr>\n",
       "      <th>3</th>\n",
       "      <td>3</td>\n",
       "      <td>5344576</td>\n",
       "      <td>1841362</td>\n",
       "      <td>2021-03-16 13:39:01</td>\n",
       "    </tr>\n",
       "    <tr>\n",
       "      <th>4</th>\n",
       "      <td>4</td>\n",
       "      <td>5094010</td>\n",
       "      <td>1066916</td>\n",
       "      <td>2005-04-20 09:51:19</td>\n",
       "    </tr>\n",
       "  </tbody>\n",
       "</table>\n",
       "</div>"
      ],
      "text/plain": [
       "   Unnamed: 0  VEHICLE_ID  CUSTOMER_ID          CREATE_DATE\n",
       "0           0     5015193      1063740  2005-01-01 19:08:33\n",
       "1           1     5110231      1155678  2005-09-29 17:16:15\n",
       "2           2     5290356      1737831  2016-04-29 13:12:10\n",
       "3           3     5344576      1841362  2021-03-16 13:39:01\n",
       "4           4     5094010      1066916  2005-04-20 09:51:19"
      ]
     },
     "execution_count": 16,
     "metadata": {},
     "output_type": "execute_result"
    }
   ],
   "source": [
    "sifir.head()"
   ]
  },
  {
   "cell_type": "code",
   "execution_count": 17,
   "id": "b733f9b0",
   "metadata": {},
   "outputs": [
    {
     "name": "stdout",
     "output_type": "stream",
     "text": [
      "<class 'pandas.core.frame.DataFrame'>\n",
      "RangeIndex: 169525 entries, 0 to 169524\n",
      "Data columns (total 4 columns):\n",
      " #   Column       Non-Null Count   Dtype \n",
      "---  ------       --------------   ----- \n",
      " 0   Unnamed: 0   169525 non-null  int64 \n",
      " 1   VEHICLE_ID   169525 non-null  int64 \n",
      " 2   CUSTOMER_ID  169525 non-null  int64 \n",
      " 3   CREATE_DATE  169525 non-null  object\n",
      "dtypes: int64(3), object(1)\n",
      "memory usage: 5.2+ MB\n"
     ]
    }
   ],
   "source": [
    "sifir.info()"
   ]
  },
  {
   "cell_type": "code",
   "execution_count": 18,
   "id": "c37099f8",
   "metadata": {},
   "outputs": [
    {
     "data": {
      "text/html": [
       "<div>\n",
       "<style scoped>\n",
       "    .dataframe tbody tr th:only-of-type {\n",
       "        vertical-align: middle;\n",
       "    }\n",
       "\n",
       "    .dataframe tbody tr th {\n",
       "        vertical-align: top;\n",
       "    }\n",
       "\n",
       "    .dataframe thead th {\n",
       "        text-align: right;\n",
       "    }\n",
       "</style>\n",
       "<table border=\"1\" class=\"dataframe\">\n",
       "  <thead>\n",
       "    <tr style=\"text-align: right;\">\n",
       "      <th></th>\n",
       "      <th>Total</th>\n",
       "      <th>%</th>\n",
       "    </tr>\n",
       "  </thead>\n",
       "  <tbody>\n",
       "    <tr>\n",
       "      <th>Unnamed: 0</th>\n",
       "      <td>0</td>\n",
       "      <td>0.0</td>\n",
       "    </tr>\n",
       "    <tr>\n",
       "      <th>VEHICLE_ID</th>\n",
       "      <td>0</td>\n",
       "      <td>0.0</td>\n",
       "    </tr>\n",
       "    <tr>\n",
       "      <th>CUSTOMER_ID</th>\n",
       "      <td>0</td>\n",
       "      <td>0.0</td>\n",
       "    </tr>\n",
       "    <tr>\n",
       "      <th>CREATE_DATE</th>\n",
       "      <td>0</td>\n",
       "      <td>0.0</td>\n",
       "    </tr>\n",
       "  </tbody>\n",
       "</table>\n",
       "</div>"
      ],
      "text/plain": [
       "             Total    %\n",
       "Unnamed: 0       0  0.0\n",
       "VEHICLE_ID       0  0.0\n",
       "CUSTOMER_ID      0  0.0\n",
       "CREATE_DATE      0  0.0"
      ]
     },
     "execution_count": 18,
     "metadata": {},
     "output_type": "execute_result"
    }
   ],
   "source": [
    "percent(sifir)"
   ]
  },
  {
   "cell_type": "code",
   "execution_count": 19,
   "id": "ea63dfaa",
   "metadata": {},
   "outputs": [
    {
     "data": {
      "text/plain": [
       "array(['Unnamed: 0', 'VEHICLE_ID', 'CUSTOMER_ID', 'CREATE_DATE'],\n",
       "      dtype=object)"
      ]
     },
     "execution_count": 19,
     "metadata": {},
     "output_type": "execute_result"
    }
   ],
   "source": [
    "sifir.columns.values"
   ]
  },
  {
   "cell_type": "markdown",
   "id": "b089cb12",
   "metadata": {},
   "source": [
    "# Vehicle"
   ]
  },
  {
   "cell_type": "code",
   "execution_count": 20,
   "id": "dad2777b",
   "metadata": {},
   "outputs": [
    {
     "data": {
      "text/html": [
       "<div>\n",
       "<style scoped>\n",
       "    .dataframe tbody tr th:only-of-type {\n",
       "        vertical-align: middle;\n",
       "    }\n",
       "\n",
       "    .dataframe tbody tr th {\n",
       "        vertical-align: top;\n",
       "    }\n",
       "\n",
       "    .dataframe thead th {\n",
       "        text-align: right;\n",
       "    }\n",
       "</style>\n",
       "<table border=\"1\" class=\"dataframe\">\n",
       "  <thead>\n",
       "    <tr style=\"text-align: right;\">\n",
       "      <th></th>\n",
       "      <th>Unnamed: 0</th>\n",
       "      <th>VEHICLE_ID</th>\n",
       "      <th>TRAFFIC_DATE</th>\n",
       "      <th>BRAND_CODE</th>\n",
       "      <th>BASEMODEL_CODE</th>\n",
       "      <th>TOPMODEL_CODE</th>\n",
       "      <th>MOTOR_GAS_TYPE</th>\n",
       "      <th>GEAR_BOX_TYPE</th>\n",
       "    </tr>\n",
       "  </thead>\n",
       "  <tbody>\n",
       "    <tr>\n",
       "      <th>0</th>\n",
       "      <td>0</td>\n",
       "      <td>5317713</td>\n",
       "      <td>2017-12-07</td>\n",
       "      <td>Z</td>\n",
       "      <td>13398</td>\n",
       "      <td>9349</td>\n",
       "      <td>Benzin</td>\n",
       "      <td>Manuel</td>\n",
       "    </tr>\n",
       "    <tr>\n",
       "      <th>1</th>\n",
       "      <td>1</td>\n",
       "      <td>5259212</td>\n",
       "      <td>2014-12-09</td>\n",
       "      <td>X</td>\n",
       "      <td>15694</td>\n",
       "      <td>9524</td>\n",
       "      <td>Dizel</td>\n",
       "      <td>Otomatik (DSG)</td>\n",
       "    </tr>\n",
       "    <tr>\n",
       "      <th>2</th>\n",
       "      <td>2</td>\n",
       "      <td>5110414</td>\n",
       "      <td>2005-12-12</td>\n",
       "      <td>Y</td>\n",
       "      <td>11183</td>\n",
       "      <td>9118</td>\n",
       "      <td>Kurşunsuz Benzin</td>\n",
       "      <td>Otomatik</td>\n",
       "    </tr>\n",
       "    <tr>\n",
       "      <th>3</th>\n",
       "      <td>3</td>\n",
       "      <td>5101263</td>\n",
       "      <td>2005-08-23</td>\n",
       "      <td>X</td>\n",
       "      <td>15039</td>\n",
       "      <td>9495</td>\n",
       "      <td>Benzin</td>\n",
       "      <td>Manuel</td>\n",
       "    </tr>\n",
       "    <tr>\n",
       "      <th>4</th>\n",
       "      <td>4</td>\n",
       "      <td>5053909</td>\n",
       "      <td>2003-04-09</td>\n",
       "      <td>Y</td>\n",
       "      <td>12255</td>\n",
       "      <td>9219</td>\n",
       "      <td>NaN</td>\n",
       "      <td>NaN</td>\n",
       "    </tr>\n",
       "  </tbody>\n",
       "</table>\n",
       "</div>"
      ],
      "text/plain": [
       "   Unnamed: 0  VEHICLE_ID TRAFFIC_DATE BRAND_CODE  BASEMODEL_CODE  \\\n",
       "0           0     5317713   2017-12-07          Z           13398   \n",
       "1           1     5259212   2014-12-09          X           15694   \n",
       "2           2     5110414   2005-12-12          Y           11183   \n",
       "3           3     5101263   2005-08-23          X           15039   \n",
       "4           4     5053909   2003-04-09          Y           12255   \n",
       "\n",
       "   TOPMODEL_CODE    MOTOR_GAS_TYPE   GEAR_BOX_TYPE  \n",
       "0           9349            Benzin          Manuel  \n",
       "1           9524             Dizel  Otomatik (DSG)  \n",
       "2           9118  Kurşunsuz Benzin        Otomatik  \n",
       "3           9495            Benzin          Manuel  \n",
       "4           9219               NaN             NaN  "
      ]
     },
     "execution_count": 20,
     "metadata": {},
     "output_type": "execute_result"
    }
   ],
   "source": [
    "vehicle.head()"
   ]
  },
  {
   "cell_type": "code",
   "execution_count": 21,
   "id": "0915b2b7",
   "metadata": {},
   "outputs": [
    {
     "name": "stdout",
     "output_type": "stream",
     "text": [
      "<class 'pandas.core.frame.DataFrame'>\n",
      "RangeIndex: 345092 entries, 0 to 345091\n",
      "Data columns (total 8 columns):\n",
      " #   Column          Non-Null Count   Dtype \n",
      "---  ------          --------------   ----- \n",
      " 0   Unnamed: 0      345092 non-null  int64 \n",
      " 1   VEHICLE_ID      345092 non-null  int64 \n",
      " 2   TRAFFIC_DATE    344226 non-null  object\n",
      " 3   BRAND_CODE      345092 non-null  object\n",
      " 4   BASEMODEL_CODE  345092 non-null  int64 \n",
      " 5   TOPMODEL_CODE   345092 non-null  int64 \n",
      " 6   MOTOR_GAS_TYPE  272646 non-null  object\n",
      " 7   GEAR_BOX_TYPE   261077 non-null  object\n",
      "dtypes: int64(4), object(4)\n",
      "memory usage: 21.1+ MB\n"
     ]
    }
   ],
   "source": [
    "vehicle.info()"
   ]
  },
  {
   "cell_type": "code",
   "execution_count": 22,
   "id": "1c2184e1",
   "metadata": {},
   "outputs": [
    {
     "data": {
      "text/html": [
       "<div>\n",
       "<style scoped>\n",
       "    .dataframe tbody tr th:only-of-type {\n",
       "        vertical-align: middle;\n",
       "    }\n",
       "\n",
       "    .dataframe tbody tr th {\n",
       "        vertical-align: top;\n",
       "    }\n",
       "\n",
       "    .dataframe thead th {\n",
       "        text-align: right;\n",
       "    }\n",
       "</style>\n",
       "<table border=\"1\" class=\"dataframe\">\n",
       "  <thead>\n",
       "    <tr style=\"text-align: right;\">\n",
       "      <th></th>\n",
       "      <th>Total</th>\n",
       "      <th>%</th>\n",
       "    </tr>\n",
       "  </thead>\n",
       "  <tbody>\n",
       "    <tr>\n",
       "      <th>GEAR_BOX_TYPE</th>\n",
       "      <td>84015</td>\n",
       "      <td>24.3</td>\n",
       "    </tr>\n",
       "    <tr>\n",
       "      <th>MOTOR_GAS_TYPE</th>\n",
       "      <td>72446</td>\n",
       "      <td>21.0</td>\n",
       "    </tr>\n",
       "    <tr>\n",
       "      <th>TRAFFIC_DATE</th>\n",
       "      <td>866</td>\n",
       "      <td>0.3</td>\n",
       "    </tr>\n",
       "    <tr>\n",
       "      <th>Unnamed: 0</th>\n",
       "      <td>0</td>\n",
       "      <td>0.0</td>\n",
       "    </tr>\n",
       "    <tr>\n",
       "      <th>VEHICLE_ID</th>\n",
       "      <td>0</td>\n",
       "      <td>0.0</td>\n",
       "    </tr>\n",
       "  </tbody>\n",
       "</table>\n",
       "</div>"
      ],
      "text/plain": [
       "                Total     %\n",
       "GEAR_BOX_TYPE   84015  24.3\n",
       "MOTOR_GAS_TYPE  72446  21.0\n",
       "TRAFFIC_DATE      866   0.3\n",
       "Unnamed: 0          0   0.0\n",
       "VEHICLE_ID          0   0.0"
      ]
     },
     "execution_count": 22,
     "metadata": {},
     "output_type": "execute_result"
    }
   ],
   "source": [
    "percent(vehicle)"
   ]
  },
  {
   "cell_type": "code",
   "execution_count": 23,
   "id": "d1e0e520",
   "metadata": {},
   "outputs": [
    {
     "data": {
      "text/plain": [
       "array(['Unnamed: 0', 'VEHICLE_ID', 'TRAFFIC_DATE', 'BRAND_CODE',\n",
       "       'BASEMODEL_CODE', 'TOPMODEL_CODE', 'MOTOR_GAS_TYPE',\n",
       "       'GEAR_BOX_TYPE'], dtype=object)"
      ]
     },
     "execution_count": 23,
     "metadata": {},
     "output_type": "execute_result"
    }
   ],
   "source": [
    "vehicle.columns.values"
   ]
  },
  {
   "cell_type": "markdown",
   "id": "93c74401",
   "metadata": {},
   "source": [
    "# Servis"
   ]
  },
  {
   "cell_type": "code",
   "execution_count": 24,
   "id": "b544f526",
   "metadata": {},
   "outputs": [
    {
     "data": {
      "text/html": [
       "<div>\n",
       "<style scoped>\n",
       "    .dataframe tbody tr th:only-of-type {\n",
       "        vertical-align: middle;\n",
       "    }\n",
       "\n",
       "    .dataframe tbody tr th {\n",
       "        vertical-align: top;\n",
       "    }\n",
       "\n",
       "    .dataframe thead th {\n",
       "        text-align: right;\n",
       "    }\n",
       "</style>\n",
       "<table border=\"1\" class=\"dataframe\">\n",
       "  <thead>\n",
       "    <tr style=\"text-align: right;\">\n",
       "      <th></th>\n",
       "      <th>Unnamed: 0</th>\n",
       "      <th>CREATE_DATE</th>\n",
       "      <th>IS_MAINTENANCE</th>\n",
       "      <th>VEHICLE_ID</th>\n",
       "      <th>TOTAL_AMOUNT_TL</th>\n",
       "    </tr>\n",
       "  </thead>\n",
       "  <tbody>\n",
       "    <tr>\n",
       "      <th>0</th>\n",
       "      <td>0</td>\n",
       "      <td>2010-12-29 10:50:56</td>\n",
       "      <td>1</td>\n",
       "      <td>5000001</td>\n",
       "      <td>192.0</td>\n",
       "    </tr>\n",
       "    <tr>\n",
       "      <th>1</th>\n",
       "      <td>1</td>\n",
       "      <td>2013-08-21 10:34:21</td>\n",
       "      <td>1</td>\n",
       "      <td>5000001</td>\n",
       "      <td>267.0</td>\n",
       "    </tr>\n",
       "    <tr>\n",
       "      <th>2</th>\n",
       "      <td>2</td>\n",
       "      <td>2015-11-30 10:55:00</td>\n",
       "      <td>1</td>\n",
       "      <td>5000001</td>\n",
       "      <td>1747.0</td>\n",
       "    </tr>\n",
       "    <tr>\n",
       "      <th>3</th>\n",
       "      <td>3</td>\n",
       "      <td>2015-12-09 13:38:49</td>\n",
       "      <td>0</td>\n",
       "      <td>5000001</td>\n",
       "      <td>465.0</td>\n",
       "    </tr>\n",
       "    <tr>\n",
       "      <th>4</th>\n",
       "      <td>4</td>\n",
       "      <td>2017-11-23 09:53:22</td>\n",
       "      <td>1</td>\n",
       "      <td>5000001</td>\n",
       "      <td>549.0</td>\n",
       "    </tr>\n",
       "  </tbody>\n",
       "</table>\n",
       "</div>"
      ],
      "text/plain": [
       "   Unnamed: 0          CREATE_DATE  IS_MAINTENANCE  VEHICLE_ID  \\\n",
       "0           0  2010-12-29 10:50:56               1     5000001   \n",
       "1           1  2013-08-21 10:34:21               1     5000001   \n",
       "2           2  2015-11-30 10:55:00               1     5000001   \n",
       "3           3  2015-12-09 13:38:49               0     5000001   \n",
       "4           4  2017-11-23 09:53:22               1     5000001   \n",
       "\n",
       "   TOTAL_AMOUNT_TL  \n",
       "0            192.0  \n",
       "1            267.0  \n",
       "2           1747.0  \n",
       "3            465.0  \n",
       "4            549.0  "
      ]
     },
     "execution_count": 24,
     "metadata": {},
     "output_type": "execute_result"
    }
   ],
   "source": [
    "servis.head()"
   ]
  },
  {
   "cell_type": "code",
   "execution_count": 25,
   "id": "f14a1c5a",
   "metadata": {},
   "outputs": [
    {
     "name": "stdout",
     "output_type": "stream",
     "text": [
      "<class 'pandas.core.frame.DataFrame'>\n",
      "RangeIndex: 1041000 entries, 0 to 1040999\n",
      "Data columns (total 5 columns):\n",
      " #   Column           Non-Null Count    Dtype  \n",
      "---  ------           --------------    -----  \n",
      " 0   Unnamed: 0       1041000 non-null  int64  \n",
      " 1   CREATE_DATE      1041000 non-null  object \n",
      " 2   IS_MAINTENANCE   1041000 non-null  int64  \n",
      " 3   VEHICLE_ID       1041000 non-null  int64  \n",
      " 4   TOTAL_AMOUNT_TL  965596 non-null   float64\n",
      "dtypes: float64(1), int64(3), object(1)\n",
      "memory usage: 39.7+ MB\n"
     ]
    }
   ],
   "source": [
    "servis.info()"
   ]
  },
  {
   "cell_type": "code",
   "execution_count": 26,
   "id": "8bed2dae",
   "metadata": {},
   "outputs": [
    {
     "data": {
      "text/html": [
       "<div>\n",
       "<style scoped>\n",
       "    .dataframe tbody tr th:only-of-type {\n",
       "        vertical-align: middle;\n",
       "    }\n",
       "\n",
       "    .dataframe tbody tr th {\n",
       "        vertical-align: top;\n",
       "    }\n",
       "\n",
       "    .dataframe thead th {\n",
       "        text-align: right;\n",
       "    }\n",
       "</style>\n",
       "<table border=\"1\" class=\"dataframe\">\n",
       "  <thead>\n",
       "    <tr style=\"text-align: right;\">\n",
       "      <th></th>\n",
       "      <th>Total</th>\n",
       "      <th>%</th>\n",
       "    </tr>\n",
       "  </thead>\n",
       "  <tbody>\n",
       "    <tr>\n",
       "      <th>TOTAL_AMOUNT_TL</th>\n",
       "      <td>75404</td>\n",
       "      <td>7.2</td>\n",
       "    </tr>\n",
       "    <tr>\n",
       "      <th>Unnamed: 0</th>\n",
       "      <td>0</td>\n",
       "      <td>0.0</td>\n",
       "    </tr>\n",
       "    <tr>\n",
       "      <th>CREATE_DATE</th>\n",
       "      <td>0</td>\n",
       "      <td>0.0</td>\n",
       "    </tr>\n",
       "    <tr>\n",
       "      <th>IS_MAINTENANCE</th>\n",
       "      <td>0</td>\n",
       "      <td>0.0</td>\n",
       "    </tr>\n",
       "    <tr>\n",
       "      <th>VEHICLE_ID</th>\n",
       "      <td>0</td>\n",
       "      <td>0.0</td>\n",
       "    </tr>\n",
       "  </tbody>\n",
       "</table>\n",
       "</div>"
      ],
      "text/plain": [
       "                 Total    %\n",
       "TOTAL_AMOUNT_TL  75404  7.2\n",
       "Unnamed: 0           0  0.0\n",
       "CREATE_DATE          0  0.0\n",
       "IS_MAINTENANCE       0  0.0\n",
       "VEHICLE_ID           0  0.0"
      ]
     },
     "execution_count": 26,
     "metadata": {},
     "output_type": "execute_result"
    }
   ],
   "source": [
    "percent(servis)"
   ]
  },
  {
   "cell_type": "code",
   "execution_count": 27,
   "id": "ed2a0c13",
   "metadata": {},
   "outputs": [
    {
     "data": {
      "text/plain": [
       "array(['Unnamed: 0', 'CREATE_DATE', 'IS_MAINTENANCE', 'VEHICLE_ID',\n",
       "       'TOTAL_AMOUNT_TL'], dtype=object)"
      ]
     },
     "execution_count": 27,
     "metadata": {},
     "output_type": "execute_result"
    }
   ],
   "source": [
    "servis.columns.values"
   ]
  },
  {
   "cell_type": "code",
   "execution_count": 29,
   "id": "cd23c250",
   "metadata": {},
   "outputs": [
    {
     "data": {
      "text/html": [
       "<div>\n",
       "<style scoped>\n",
       "    .dataframe tbody tr th:only-of-type {\n",
       "        vertical-align: middle;\n",
       "    }\n",
       "\n",
       "    .dataframe tbody tr th {\n",
       "        vertical-align: top;\n",
       "    }\n",
       "\n",
       "    .dataframe thead th {\n",
       "        text-align: right;\n",
       "    }\n",
       "</style>\n",
       "<table border=\"1\" class=\"dataframe\">\n",
       "  <thead>\n",
       "    <tr style=\"text-align: right;\">\n",
       "      <th></th>\n",
       "      <th>Unnamed: 0</th>\n",
       "      <th>BASE_CUSTOMER_ID</th>\n",
       "      <th>VEHICLE_ID</th>\n",
       "      <th>FK_RELATION_STATUS_ID</th>\n",
       "    </tr>\n",
       "  </thead>\n",
       "  <tbody>\n",
       "    <tr>\n",
       "      <th>count</th>\n",
       "      <td>374879.000000</td>\n",
       "      <td>374879.000000</td>\n",
       "      <td>3.748790e+05</td>\n",
       "      <td>374879.000000</td>\n",
       "    </tr>\n",
       "    <tr>\n",
       "      <th>mean</th>\n",
       "      <td>187439.000000</td>\n",
       "      <td>100153.756567</td>\n",
       "      <td>5.172021e+06</td>\n",
       "      <td>1.426156</td>\n",
       "    </tr>\n",
       "    <tr>\n",
       "      <th>std</th>\n",
       "      <td>108218.390119</td>\n",
       "      <td>56049.517641</td>\n",
       "      <td>9.910113e+04</td>\n",
       "      <td>0.494518</td>\n",
       "    </tr>\n",
       "    <tr>\n",
       "      <th>min</th>\n",
       "      <td>0.000000</td>\n",
       "      <td>1.000000</td>\n",
       "      <td>5.000001e+06</td>\n",
       "      <td>1.000000</td>\n",
       "    </tr>\n",
       "    <tr>\n",
       "      <th>25%</th>\n",
       "      <td>93719.500000</td>\n",
       "      <td>51807.000000</td>\n",
       "      <td>5.086596e+06</td>\n",
       "      <td>1.000000</td>\n",
       "    </tr>\n",
       "    <tr>\n",
       "      <th>50%</th>\n",
       "      <td>187439.000000</td>\n",
       "      <td>102932.000000</td>\n",
       "      <td>5.171862e+06</td>\n",
       "      <td>1.000000</td>\n",
       "    </tr>\n",
       "    <tr>\n",
       "      <th>75%</th>\n",
       "      <td>281158.500000</td>\n",
       "      <td>148477.000000</td>\n",
       "      <td>5.257520e+06</td>\n",
       "      <td>2.000000</td>\n",
       "    </tr>\n",
       "    <tr>\n",
       "      <th>max</th>\n",
       "      <td>374878.000000</td>\n",
       "      <td>196564.000000</td>\n",
       "      <td>5.345092e+06</td>\n",
       "      <td>2.000000</td>\n",
       "    </tr>\n",
       "  </tbody>\n",
       "</table>\n",
       "</div>"
      ],
      "text/plain": [
       "          Unnamed: 0  BASE_CUSTOMER_ID    VEHICLE_ID  FK_RELATION_STATUS_ID\n",
       "count  374879.000000     374879.000000  3.748790e+05          374879.000000\n",
       "mean   187439.000000     100153.756567  5.172021e+06               1.426156\n",
       "std    108218.390119      56049.517641  9.910113e+04               0.494518\n",
       "min         0.000000          1.000000  5.000001e+06               1.000000\n",
       "25%     93719.500000      51807.000000  5.086596e+06               1.000000\n",
       "50%    187439.000000     102932.000000  5.171862e+06               1.000000\n",
       "75%    281158.500000     148477.000000  5.257520e+06               2.000000\n",
       "max    374878.000000     196564.000000  5.345092e+06               2.000000"
      ]
     },
     "execution_count": 29,
     "metadata": {},
     "output_type": "execute_result"
    }
   ],
   "source": [
    "customer_rel.describe()"
   ]
  },
  {
   "cell_type": "code",
   "execution_count": null,
   "id": "60e1fbb3",
   "metadata": {},
   "outputs": [],
   "source": []
  }
 ],
 "metadata": {
  "interpreter": {
   "hash": "85a193d9a2060f1c60952a812de15256189574c97dd55b8206a1e3de938c8a7b"
  },
  "kernelspec": {
   "display_name": "Python 3.8.8 64-bit ('base': conda)",
   "name": "python3"
  },
  "language_info": {
   "codemirror_mode": {
    "name": "ipython",
    "version": 3
   },
   "file_extension": ".py",
   "mimetype": "text/x-python",
   "name": "python",
   "nbconvert_exporter": "python",
   "pygments_lexer": "ipython3",
   "version": "3.8.8"
  }
 },
 "nbformat": 4,
 "nbformat_minor": 5
}
