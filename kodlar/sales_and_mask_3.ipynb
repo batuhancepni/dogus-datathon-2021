{
 "cells": [
  {
   "cell_type": "markdown",
   "id": "6560d052",
   "metadata": {},
   "source": [
    "# #DOGUSOTO FINAL_SALES_FILE AND MASK_SERVIS_BAKIM DATASI (3)"
   ]
  },
  {
   "cell_type": "code",
   "execution_count": 19,
   "id": "361c704c",
   "metadata": {},
   "outputs": [],
   "source": [
    "import numpy as np\n",
    "import pandas as pd\n",
    "\n",
    "sales = pd.read_csv('../datasets/FINAL_SALES_FILE_DATATHON.csv')\n",
    "servis_bakim = pd.read_csv('../datasets/MASK_SERVIS_BAKIM_DATATHON_FINAL.csv')"
   ]
  },
  {
   "cell_type": "markdown",
   "id": "858cf116",
   "metadata": {},
   "source": [
    "# 5-) FINAL_SALES_FILE_DATATHON"
   ]
  },
  {
   "cell_type": "markdown",
   "id": "a2cc0c49",
   "metadata": {},
   "source": [
    "## Genel Bilgiler"
   ]
  },
  {
   "cell_type": "code",
   "execution_count": 20,
   "id": "22586f43",
   "metadata": {},
   "outputs": [
    {
     "data": {
      "text/html": [
       "<div>\n",
       "<style scoped>\n",
       "    .dataframe tbody tr th:only-of-type {\n",
       "        vertical-align: middle;\n",
       "    }\n",
       "\n",
       "    .dataframe tbody tr th {\n",
       "        vertical-align: top;\n",
       "    }\n",
       "\n",
       "    .dataframe thead th {\n",
       "        text-align: right;\n",
       "    }\n",
       "</style>\n",
       "<table border=\"1\" class=\"dataframe\">\n",
       "  <thead>\n",
       "    <tr style=\"text-align: right;\">\n",
       "      <th></th>\n",
       "      <th>Unnamed: 0</th>\n",
       "      <th>CUSTOMER_ID</th>\n",
       "      <th>SALESFILE_ID</th>\n",
       "      <th>SF_CREATE_DATE</th>\n",
       "      <th>STATUS</th>\n",
       "      <th>REQ_BRAND_CODE</th>\n",
       "      <th>REQ_TOPMODEL_CODE</th>\n",
       "    </tr>\n",
       "  </thead>\n",
       "  <tbody>\n",
       "    <tr>\n",
       "      <th>0</th>\n",
       "      <td>0</td>\n",
       "      <td>1712792</td>\n",
       "      <td>7274467.0</td>\n",
       "      <td>2017-11-17 12:15:39</td>\n",
       "      <td>101</td>\n",
       "      <td>Y</td>\n",
       "      <td>9231.0</td>\n",
       "    </tr>\n",
       "    <tr>\n",
       "      <th>1</th>\n",
       "      <td>1</td>\n",
       "      <td>1149729</td>\n",
       "      <td>4839430.0</td>\n",
       "      <td>2015-11-11 17:03:28</td>\n",
       "      <td>102</td>\n",
       "      <td>K</td>\n",
       "      <td>9184.0</td>\n",
       "    </tr>\n",
       "    <tr>\n",
       "      <th>2</th>\n",
       "      <td>2</td>\n",
       "      <td>1697993</td>\n",
       "      <td>4847398.0</td>\n",
       "      <td>2015-11-14 11:15:51</td>\n",
       "      <td>102</td>\n",
       "      <td>Y</td>\n",
       "      <td>9231.0</td>\n",
       "    </tr>\n",
       "    <tr>\n",
       "      <th>3</th>\n",
       "      <td>3</td>\n",
       "      <td>1680258</td>\n",
       "      <td>3817349.0</td>\n",
       "      <td>2014-12-23 17:26:09</td>\n",
       "      <td>105</td>\n",
       "      <td>Y</td>\n",
       "      <td>9362.0</td>\n",
       "    </tr>\n",
       "    <tr>\n",
       "      <th>4</th>\n",
       "      <td>4</td>\n",
       "      <td>1244973</td>\n",
       "      <td>8079074.0</td>\n",
       "      <td>2018-08-28 12:55:04</td>\n",
       "      <td>101</td>\n",
       "      <td>K</td>\n",
       "      <td>9901.0</td>\n",
       "    </tr>\n",
       "    <tr>\n",
       "      <th>...</th>\n",
       "      <td>...</td>\n",
       "      <td>...</td>\n",
       "      <td>...</td>\n",
       "      <td>...</td>\n",
       "      <td>...</td>\n",
       "      <td>...</td>\n",
       "      <td>...</td>\n",
       "    </tr>\n",
       "    <tr>\n",
       "      <th>397521</th>\n",
       "      <td>397521</td>\n",
       "      <td>1151001</td>\n",
       "      <td>3504117.0</td>\n",
       "      <td>2014-09-17 12:30:13</td>\n",
       "      <td>102</td>\n",
       "      <td>K</td>\n",
       "      <td>9435.0</td>\n",
       "    </tr>\n",
       "    <tr>\n",
       "      <th>397522</th>\n",
       "      <td>397522</td>\n",
       "      <td>1581191</td>\n",
       "      <td>3518578.0</td>\n",
       "      <td>2014-09-22 20:14:38</td>\n",
       "      <td>105</td>\n",
       "      <td>K</td>\n",
       "      <td>9176.0</td>\n",
       "    </tr>\n",
       "    <tr>\n",
       "      <th>397523</th>\n",
       "      <td>397523</td>\n",
       "      <td>1535801</td>\n",
       "      <td>3526258.0</td>\n",
       "      <td>2014-09-25 12:01:58</td>\n",
       "      <td>102</td>\n",
       "      <td>T</td>\n",
       "      <td>9352.0</td>\n",
       "    </tr>\n",
       "    <tr>\n",
       "      <th>397524</th>\n",
       "      <td>397524</td>\n",
       "      <td>1205995</td>\n",
       "      <td>6592609.0</td>\n",
       "      <td>2017-04-14 15:40:44</td>\n",
       "      <td>105</td>\n",
       "      <td>X</td>\n",
       "      <td>9523.0</td>\n",
       "    </tr>\n",
       "    <tr>\n",
       "      <th>397525</th>\n",
       "      <td>397525</td>\n",
       "      <td>1501605</td>\n",
       "      <td>6614631.0</td>\n",
       "      <td>2017-04-22 11:42:48</td>\n",
       "      <td>102</td>\n",
       "      <td>K</td>\n",
       "      <td>9898.0</td>\n",
       "    </tr>\n",
       "  </tbody>\n",
       "</table>\n",
       "<p>397526 rows × 7 columns</p>\n",
       "</div>"
      ],
      "text/plain": [
       "        Unnamed: 0  CUSTOMER_ID  SALESFILE_ID       SF_CREATE_DATE  STATUS  \\\n",
       "0                0      1712792     7274467.0  2017-11-17 12:15:39     101   \n",
       "1                1      1149729     4839430.0  2015-11-11 17:03:28     102   \n",
       "2                2      1697993     4847398.0  2015-11-14 11:15:51     102   \n",
       "3                3      1680258     3817349.0  2014-12-23 17:26:09     105   \n",
       "4                4      1244973     8079074.0  2018-08-28 12:55:04     101   \n",
       "...            ...          ...           ...                  ...     ...   \n",
       "397521      397521      1151001     3504117.0  2014-09-17 12:30:13     102   \n",
       "397522      397522      1581191     3518578.0  2014-09-22 20:14:38     105   \n",
       "397523      397523      1535801     3526258.0  2014-09-25 12:01:58     102   \n",
       "397524      397524      1205995     6592609.0  2017-04-14 15:40:44     105   \n",
       "397525      397525      1501605     6614631.0  2017-04-22 11:42:48     102   \n",
       "\n",
       "       REQ_BRAND_CODE  REQ_TOPMODEL_CODE  \n",
       "0                   Y             9231.0  \n",
       "1                   K             9184.0  \n",
       "2                   Y             9231.0  \n",
       "3                   Y             9362.0  \n",
       "4                   K             9901.0  \n",
       "...               ...                ...  \n",
       "397521              K             9435.0  \n",
       "397522              K             9176.0  \n",
       "397523              T             9352.0  \n",
       "397524              X             9523.0  \n",
       "397525              K             9898.0  \n",
       "\n",
       "[397526 rows x 7 columns]"
      ]
     },
     "execution_count": 20,
     "metadata": {},
     "output_type": "execute_result"
    }
   ],
   "source": [
    "sales"
   ]
  },
  {
   "cell_type": "code",
   "execution_count": 21,
   "id": "f9d1787e",
   "metadata": {},
   "outputs": [
    {
     "name": "stdout",
     "output_type": "stream",
     "text": [
      "<class 'pandas.core.frame.DataFrame'>\n",
      "RangeIndex: 397526 entries, 0 to 397525\n",
      "Data columns (total 7 columns):\n",
      "Unnamed: 0           397526 non-null int64\n",
      "CUSTOMER_ID          397526 non-null int64\n",
      "SALESFILE_ID         397526 non-null float64\n",
      "SF_CREATE_DATE       397526 non-null object\n",
      "STATUS               397526 non-null int64\n",
      "REQ_BRAND_CODE       397526 non-null object\n",
      "REQ_TOPMODEL_CODE    397237 non-null float64\n",
      "dtypes: float64(2), int64(3), object(2)\n",
      "memory usage: 21.2+ MB\n"
     ]
    }
   ],
   "source": [
    "sales.info()"
   ]
  },
  {
   "cell_type": "code",
   "execution_count": 53,
   "id": "609002eb",
   "metadata": {},
   "outputs": [
    {
     "data": {
      "text/plain": [
       "Unnamed: 0           0\n",
       "CUSTOMER_ID          0\n",
       "SALESFILE_ID         0\n",
       "SF_CREATE_DATE       0\n",
       "STATUS               0\n",
       "REQ_BRAND_CODE       0\n",
       "REQ_TOPMODEL_CODE    0\n",
       "dtype: int64"
      ]
     },
     "execution_count": 53,
     "metadata": {},
     "output_type": "execute_result"
    }
   ],
   "source": [
    "sales.isnull().sum()"
   ]
  },
  {
   "cell_type": "code",
   "execution_count": 52,
   "id": "88b5d092",
   "metadata": {},
   "outputs": [],
   "source": [
    "sales = sales.fillna(method='bfill')"
   ]
  },
  {
   "cell_type": "code",
   "execution_count": 23,
   "id": "9965ad46",
   "metadata": {},
   "outputs": [
    {
     "data": {
      "text/plain": [
       "397520"
      ]
     },
     "execution_count": 23,
     "metadata": {},
     "output_type": "execute_result"
    }
   ],
   "source": [
    "sales.duplicated('STATUS').sum()"
   ]
  },
  {
   "cell_type": "markdown",
   "id": "9756389f",
   "metadata": {},
   "source": [
    "## Eşsizlik"
   ]
  },
  {
   "cell_type": "code",
   "execution_count": 25,
   "id": "6e10f002",
   "metadata": {},
   "outputs": [
    {
     "data": {
      "text/plain": [
       "array([101, 102, 105, 100, 109, 106], dtype=int64)"
      ]
     },
     "execution_count": 25,
     "metadata": {},
     "output_type": "execute_result"
    }
   ],
   "source": [
    "pd.unique(sales['STATUS'])"
   ]
  },
  {
   "cell_type": "code",
   "execution_count": 26,
   "id": "c017023a",
   "metadata": {},
   "outputs": [
    {
     "data": {
      "text/plain": [
       "array(['Y', 'K', 'Z', 'T', 'X'], dtype=object)"
      ]
     },
     "execution_count": 26,
     "metadata": {},
     "output_type": "execute_result"
    }
   ],
   "source": [
    "pd.unique(sales['REQ_BRAND_CODE'])"
   ]
  },
  {
   "cell_type": "code",
   "execution_count": 54,
   "id": "077554f8",
   "metadata": {},
   "outputs": [],
   "source": [
    "sales['REQ_TOPMODEL_CODE']  = sales.REQ_TOPMODEL_CODE.astype(str).str[:2].astype(int)"
   ]
  },
  {
   "cell_type": "code",
   "execution_count": 56,
   "id": "9db7ccba",
   "metadata": {},
   "outputs": [
    {
     "data": {
      "text/plain": [
       "array([92, 91, 93, 99, 94, 96, 98, 95, 90, 97], dtype=int64)"
      ]
     },
     "execution_count": 56,
     "metadata": {},
     "output_type": "execute_result"
    }
   ],
   "source": [
    "pd.unique(sales['REQ_TOPMODEL_CODE'])"
   ]
  },
  {
   "cell_type": "code",
   "execution_count": 41,
   "id": "829d00e7",
   "metadata": {},
   "outputs": [
    {
     "data": {
      "text/plain": [
       "array([9231., 9184., 9362., 9901., 9245., 9419., 9352., 9176., 9612.,\n",
       "       9821., 9511., 9094., 9377., 9390., 9596., 9387., 9524., 9346.,\n",
       "       9095., 9355., 9936., 9123., 9186., 9527., 9766., 9625., 9817.,\n",
       "       9522., 9935., 9161., 9640., 9927., 9349., 9526., 9819., 9435.,\n",
       "       9525., 9692., 9172., 9816., 9351., 9119., 9222., 9298., 9520.,\n",
       "       9503., 9311., 9235., 9822., 9820., 9201., 9357., 9345., 9430.,\n",
       "       9374., 9174., 9721., 9605., 9515., 9523., 9581., 9818., 9604.,\n",
       "       9930., 9763., 9241., 9516., 9200., 9531., 9199., 9438., 9517.,\n",
       "       9929., 9295., 9359., 9898., 9940., 9767., 9764., 9815., 9931.,\n",
       "       9431., 9518., 9739., 9281., 9928., 9967., 9969., 9968., 9233.,\n",
       "       9897., 9434., 9204., 9765., 9358., 9902., 9301., 9626., 9694.,\n",
       "       9361., 9183., 9509., 9354., 9464., 9336., 9899., 9313., 9823.,\n",
       "       9907., 9521., 9510., 9240., 9243., 9232., 9533., 9505., 9512.,\n",
       "       9616., 9312., 9495., 9133., 9083.,   nan, 9645., 9690., 9376.,\n",
       "       9135., 9163., 9463., 9942., 9514., 9303., 9530., 9300., 9388.,\n",
       "       9302., 9535., 9446., 9127., 9943., 9365., 9084., 9170., 9378.,\n",
       "       9134., 9350., 9171., 9310., 9945., 9179., 9536., 9576., 9131.,\n",
       "       9178., 9573., 9389., 9903., 9175., 9608., 9363., 9445., 9529.,\n",
       "       9162., 9353., 9118., 9534., 9946., 9246., 9160., 9439., 9242.,\n",
       "       9718., 9599., 9440., 9187., 9528., 9283., 9282., 9307., 9939.,\n",
       "       9501., 9972., 9900., 9442., 9519., 9814., 9347., 9906., 9299.,\n",
       "       9314., 9768., 9770., 9740., 9496., 9973., 9502., 9356., 9723.,\n",
       "       9974., 9504., 9418., 9173., 9297., 9309., 9316., 9259., 9970.,\n",
       "       9333., 9223., 9182., 9688., 9449., 9598., 9125., 9177., 9188.,\n",
       "       9433., 9296., 9180., 9304., 9932., 9401., 9441., 9132., 9450.,\n",
       "       9497., 9719., 9126., 9769., 9107., 9181., 9403., 9260., 9453.,\n",
       "       9457., 9513., 9689., 9695., 9436., 9306., 9934., 9461., 9305.,\n",
       "       9130., 9293., 9908., 9402., 9337., 9348., 9937., 9315., 9437.,\n",
       "       9317., 9938., 9308., 9294., 9360., 9722., 9236., 9432., 9128.,\n",
       "       9609., 9383., 9933., 9965., 9944., 9185., 9105., 9447., 9762.,\n",
       "       9120., 9368., 9400., 9444., 9693., 9500., 9226., 9451.])"
      ]
     },
     "execution_count": 41,
     "metadata": {},
     "output_type": "execute_result"
    }
   ],
   "source": [
    "pd.unique(sales['REQ_TOPMODEL_CODE'])"
   ]
  },
  {
   "cell_type": "code",
   "execution_count": 59,
   "id": "bc462198",
   "metadata": {},
   "outputs": [],
   "source": [
    "sales['SF_CREATE_DATE']  = sales.SF_CREATE_DATE.astype(str).str[:4].astype(int)"
   ]
  },
  {
   "cell_type": "code",
   "execution_count": 61,
   "id": "8e19e095",
   "metadata": {},
   "outputs": [
    {
     "data": {
      "text/plain": [
       "array([2017, 2015, 2014, 2018, 2020, 2011, 2013, 2016, 2010, 2019, 2021,\n",
       "       2012], dtype=int64)"
      ]
     },
     "execution_count": 61,
     "metadata": {},
     "output_type": "execute_result"
    }
   ],
   "source": [
    "pd.unique(sales['SF_CREATE_DATE'])"
   ]
  },
  {
   "cell_type": "code",
   "execution_count": 30,
   "id": "761df100",
   "metadata": {},
   "outputs": [
    {
     "data": {
      "text/plain": [
       "array([7274467., 4839430., 4847398., ..., 3526258., 6592609., 6614631.])"
      ]
     },
     "execution_count": 30,
     "metadata": {},
     "output_type": "execute_result"
    }
   ],
   "source": [
    "pd.unique(sales['SALESFILE_ID'])"
   ]
  },
  {
   "cell_type": "code",
   "execution_count": 31,
   "id": "14914d4a",
   "metadata": {},
   "outputs": [
    {
     "data": {
      "text/plain": [
       "array([1712792, 1149729, 1697993, ..., 1383901, 1498539, 1649602],\n",
       "      dtype=int64)"
      ]
     },
     "execution_count": 31,
     "metadata": {},
     "output_type": "execute_result"
    }
   ],
   "source": [
    "pd.unique(sales['CUSTOMER_ID'])"
   ]
  },
  {
   "cell_type": "markdown",
   "id": "e654a9e2",
   "metadata": {},
   "source": [
    "## Values"
   ]
  },
  {
   "cell_type": "code",
   "execution_count": 33,
   "id": "f9625182",
   "metadata": {},
   "outputs": [
    {
     "data": {
      "text/plain": [
       "105    143134\n",
       "102    142428\n",
       "101    105773\n",
       "109      4825\n",
       "100      1281\n",
       "106        85\n",
       "Name: STATUS, dtype: int64"
      ]
     },
     "execution_count": 33,
     "metadata": {},
     "output_type": "execute_result"
    }
   ],
   "source": [
    "sales['STATUS'].value_counts(dropna=True)"
   ]
  },
  {
   "cell_type": "code",
   "execution_count": 32,
   "id": "022ca9b5",
   "metadata": {},
   "outputs": [
    {
     "data": {
      "text/plain": [
       "Y    143047\n",
       "K     99840\n",
       "X     74527\n",
       "Z     45490\n",
       "T     34622\n",
       "Name: REQ_BRAND_CODE, dtype: int64"
      ]
     },
     "execution_count": 32,
     "metadata": {},
     "output_type": "execute_result"
    }
   ],
   "source": [
    "sales['REQ_BRAND_CODE'].value_counts(dropna=True)"
   ]
  },
  {
   "cell_type": "code",
   "execution_count": 34,
   "id": "c468ca0f",
   "metadata": {},
   "outputs": [
    {
     "data": {
      "text/plain": [
       "9161.0    19558\n",
       "9231.0    19107\n",
       "9901.0    15798\n",
       "9355.0    15178\n",
       "9352.0    14478\n",
       "          ...  \n",
       "9500.0        1\n",
       "9444.0        1\n",
       "9609.0        1\n",
       "9762.0        1\n",
       "9451.0        1\n",
       "Name: REQ_TOPMODEL_CODE, Length: 277, dtype: int64"
      ]
     },
     "execution_count": 34,
     "metadata": {},
     "output_type": "execute_result"
    }
   ],
   "source": [
    "sales['REQ_TOPMODEL_CODE'].value_counts(dropna=True)"
   ]
  },
  {
   "cell_type": "code",
   "execution_count": 35,
   "id": "78b0b682",
   "metadata": {},
   "outputs": [
    {
     "data": {
      "text/plain": [
       "1192313    286\n",
       "1047601    266\n",
       "1136791    264\n",
       "1379169    262\n",
       "1441256    242\n",
       "          ... \n",
       "1063290      1\n",
       "1800847      1\n",
       "1798798      1\n",
       "1036679      1\n",
       "1520000      1\n",
       "Name: CUSTOMER_ID, Length: 183523, dtype: int64"
      ]
     },
     "execution_count": 35,
     "metadata": {},
     "output_type": "execute_result"
    }
   ],
   "source": [
    "sales['CUSTOMER_ID'].value_counts(dropna=True)"
   ]
  },
  {
   "cell_type": "markdown",
   "id": "fe2742b0",
   "metadata": {},
   "source": [
    "## Column Categorization"
   ]
  },
  {
   "cell_type": "markdown",
   "id": "40d2ad1d",
   "metadata": {},
   "source": [
    "- STATUS"
   ]
  },
  {
   "cell_type": "code",
   "execution_count": 36,
   "id": "e14d8895",
   "metadata": {},
   "outputs": [],
   "source": [
    "sales['STATUS'] = sales['STATUS'].astype('str')\n",
    "cleanup_nums_status = {\"STATUS\":     {\"100\": 0, \"101\": 1, \"102\": 2, \"105\": 3, \"106\": 4, \"109\": 5}}\n",
    "sales = sales.replace(cleanup_nums_status)"
   ]
  },
  {
   "cell_type": "code",
   "execution_count": 37,
   "id": "2ca9541b",
   "metadata": {},
   "outputs": [
    {
     "data": {
      "text/html": [
       "<div>\n",
       "<style scoped>\n",
       "    .dataframe tbody tr th:only-of-type {\n",
       "        vertical-align: middle;\n",
       "    }\n",
       "\n",
       "    .dataframe tbody tr th {\n",
       "        vertical-align: top;\n",
       "    }\n",
       "\n",
       "    .dataframe thead th {\n",
       "        text-align: right;\n",
       "    }\n",
       "</style>\n",
       "<table border=\"1\" class=\"dataframe\">\n",
       "  <thead>\n",
       "    <tr style=\"text-align: right;\">\n",
       "      <th></th>\n",
       "      <th>Unnamed: 0</th>\n",
       "      <th>CUSTOMER_ID</th>\n",
       "      <th>SALESFILE_ID</th>\n",
       "      <th>SF_CREATE_DATE</th>\n",
       "      <th>STATUS</th>\n",
       "      <th>REQ_BRAND_CODE</th>\n",
       "      <th>REQ_TOPMODEL_CODE</th>\n",
       "    </tr>\n",
       "  </thead>\n",
       "  <tbody>\n",
       "    <tr>\n",
       "      <th>0</th>\n",
       "      <td>0</td>\n",
       "      <td>1712792</td>\n",
       "      <td>7274467.0</td>\n",
       "      <td>2017-11-17 12:15:39</td>\n",
       "      <td>1</td>\n",
       "      <td>Y</td>\n",
       "      <td>9231.0</td>\n",
       "    </tr>\n",
       "    <tr>\n",
       "      <th>1</th>\n",
       "      <td>1</td>\n",
       "      <td>1149729</td>\n",
       "      <td>4839430.0</td>\n",
       "      <td>2015-11-11 17:03:28</td>\n",
       "      <td>2</td>\n",
       "      <td>K</td>\n",
       "      <td>9184.0</td>\n",
       "    </tr>\n",
       "    <tr>\n",
       "      <th>2</th>\n",
       "      <td>2</td>\n",
       "      <td>1697993</td>\n",
       "      <td>4847398.0</td>\n",
       "      <td>2015-11-14 11:15:51</td>\n",
       "      <td>2</td>\n",
       "      <td>Y</td>\n",
       "      <td>9231.0</td>\n",
       "    </tr>\n",
       "    <tr>\n",
       "      <th>3</th>\n",
       "      <td>3</td>\n",
       "      <td>1680258</td>\n",
       "      <td>3817349.0</td>\n",
       "      <td>2014-12-23 17:26:09</td>\n",
       "      <td>3</td>\n",
       "      <td>Y</td>\n",
       "      <td>9362.0</td>\n",
       "    </tr>\n",
       "    <tr>\n",
       "      <th>4</th>\n",
       "      <td>4</td>\n",
       "      <td>1244973</td>\n",
       "      <td>8079074.0</td>\n",
       "      <td>2018-08-28 12:55:04</td>\n",
       "      <td>1</td>\n",
       "      <td>K</td>\n",
       "      <td>9901.0</td>\n",
       "    </tr>\n",
       "    <tr>\n",
       "      <th>...</th>\n",
       "      <td>...</td>\n",
       "      <td>...</td>\n",
       "      <td>...</td>\n",
       "      <td>...</td>\n",
       "      <td>...</td>\n",
       "      <td>...</td>\n",
       "      <td>...</td>\n",
       "    </tr>\n",
       "    <tr>\n",
       "      <th>397521</th>\n",
       "      <td>397521</td>\n",
       "      <td>1151001</td>\n",
       "      <td>3504117.0</td>\n",
       "      <td>2014-09-17 12:30:13</td>\n",
       "      <td>2</td>\n",
       "      <td>K</td>\n",
       "      <td>9435.0</td>\n",
       "    </tr>\n",
       "    <tr>\n",
       "      <th>397522</th>\n",
       "      <td>397522</td>\n",
       "      <td>1581191</td>\n",
       "      <td>3518578.0</td>\n",
       "      <td>2014-09-22 20:14:38</td>\n",
       "      <td>3</td>\n",
       "      <td>K</td>\n",
       "      <td>9176.0</td>\n",
       "    </tr>\n",
       "    <tr>\n",
       "      <th>397523</th>\n",
       "      <td>397523</td>\n",
       "      <td>1535801</td>\n",
       "      <td>3526258.0</td>\n",
       "      <td>2014-09-25 12:01:58</td>\n",
       "      <td>2</td>\n",
       "      <td>T</td>\n",
       "      <td>9352.0</td>\n",
       "    </tr>\n",
       "    <tr>\n",
       "      <th>397524</th>\n",
       "      <td>397524</td>\n",
       "      <td>1205995</td>\n",
       "      <td>6592609.0</td>\n",
       "      <td>2017-04-14 15:40:44</td>\n",
       "      <td>3</td>\n",
       "      <td>X</td>\n",
       "      <td>9523.0</td>\n",
       "    </tr>\n",
       "    <tr>\n",
       "      <th>397525</th>\n",
       "      <td>397525</td>\n",
       "      <td>1501605</td>\n",
       "      <td>6614631.0</td>\n",
       "      <td>2017-04-22 11:42:48</td>\n",
       "      <td>2</td>\n",
       "      <td>K</td>\n",
       "      <td>9898.0</td>\n",
       "    </tr>\n",
       "  </tbody>\n",
       "</table>\n",
       "<p>397526 rows × 7 columns</p>\n",
       "</div>"
      ],
      "text/plain": [
       "        Unnamed: 0  CUSTOMER_ID  SALESFILE_ID       SF_CREATE_DATE  STATUS  \\\n",
       "0                0      1712792     7274467.0  2017-11-17 12:15:39       1   \n",
       "1                1      1149729     4839430.0  2015-11-11 17:03:28       2   \n",
       "2                2      1697993     4847398.0  2015-11-14 11:15:51       2   \n",
       "3                3      1680258     3817349.0  2014-12-23 17:26:09       3   \n",
       "4                4      1244973     8079074.0  2018-08-28 12:55:04       1   \n",
       "...            ...          ...           ...                  ...     ...   \n",
       "397521      397521      1151001     3504117.0  2014-09-17 12:30:13       2   \n",
       "397522      397522      1581191     3518578.0  2014-09-22 20:14:38       3   \n",
       "397523      397523      1535801     3526258.0  2014-09-25 12:01:58       2   \n",
       "397524      397524      1205995     6592609.0  2017-04-14 15:40:44       3   \n",
       "397525      397525      1501605     6614631.0  2017-04-22 11:42:48       2   \n",
       "\n",
       "       REQ_BRAND_CODE  REQ_TOPMODEL_CODE  \n",
       "0                   Y             9231.0  \n",
       "1                   K             9184.0  \n",
       "2                   Y             9231.0  \n",
       "3                   Y             9362.0  \n",
       "4                   K             9901.0  \n",
       "...               ...                ...  \n",
       "397521              K             9435.0  \n",
       "397522              K             9176.0  \n",
       "397523              T             9352.0  \n",
       "397524              X             9523.0  \n",
       "397525              K             9898.0  \n",
       "\n",
       "[397526 rows x 7 columns]"
      ]
     },
     "execution_count": 37,
     "metadata": {},
     "output_type": "execute_result"
    }
   ],
   "source": [
    "sales"
   ]
  },
  {
   "cell_type": "markdown",
   "id": "85ca8f4b",
   "metadata": {},
   "source": [
    "- REQ_BRAND_CODE"
   ]
  },
  {
   "cell_type": "code",
   "execution_count": 38,
   "id": "41097ba7",
   "metadata": {},
   "outputs": [],
   "source": [
    "sales['REQ_BRAND_CODE'] = sales['REQ_BRAND_CODE'].astype('str')\n",
    "cleanup_nums_code = {\"REQ_BRAND_CODE\":     {\"Y\": 0, \"K\": 1, \"Z\": 2, \"T\": 3, \"X\": 4}}\n",
    "sales = sales.replace(cleanup_nums_code)"
   ]
  },
  {
   "cell_type": "code",
   "execution_count": 39,
   "id": "8ea8c97d",
   "metadata": {},
   "outputs": [
    {
     "data": {
      "text/html": [
       "<div>\n",
       "<style scoped>\n",
       "    .dataframe tbody tr th:only-of-type {\n",
       "        vertical-align: middle;\n",
       "    }\n",
       "\n",
       "    .dataframe tbody tr th {\n",
       "        vertical-align: top;\n",
       "    }\n",
       "\n",
       "    .dataframe thead th {\n",
       "        text-align: right;\n",
       "    }\n",
       "</style>\n",
       "<table border=\"1\" class=\"dataframe\">\n",
       "  <thead>\n",
       "    <tr style=\"text-align: right;\">\n",
       "      <th></th>\n",
       "      <th>Unnamed: 0</th>\n",
       "      <th>CUSTOMER_ID</th>\n",
       "      <th>SALESFILE_ID</th>\n",
       "      <th>SF_CREATE_DATE</th>\n",
       "      <th>STATUS</th>\n",
       "      <th>REQ_BRAND_CODE</th>\n",
       "      <th>REQ_TOPMODEL_CODE</th>\n",
       "    </tr>\n",
       "  </thead>\n",
       "  <tbody>\n",
       "    <tr>\n",
       "      <th>0</th>\n",
       "      <td>0</td>\n",
       "      <td>1712792</td>\n",
       "      <td>7274467.0</td>\n",
       "      <td>2017-11-17 12:15:39</td>\n",
       "      <td>1</td>\n",
       "      <td>0</td>\n",
       "      <td>9231.0</td>\n",
       "    </tr>\n",
       "    <tr>\n",
       "      <th>1</th>\n",
       "      <td>1</td>\n",
       "      <td>1149729</td>\n",
       "      <td>4839430.0</td>\n",
       "      <td>2015-11-11 17:03:28</td>\n",
       "      <td>2</td>\n",
       "      <td>1</td>\n",
       "      <td>9184.0</td>\n",
       "    </tr>\n",
       "    <tr>\n",
       "      <th>2</th>\n",
       "      <td>2</td>\n",
       "      <td>1697993</td>\n",
       "      <td>4847398.0</td>\n",
       "      <td>2015-11-14 11:15:51</td>\n",
       "      <td>2</td>\n",
       "      <td>0</td>\n",
       "      <td>9231.0</td>\n",
       "    </tr>\n",
       "    <tr>\n",
       "      <th>3</th>\n",
       "      <td>3</td>\n",
       "      <td>1680258</td>\n",
       "      <td>3817349.0</td>\n",
       "      <td>2014-12-23 17:26:09</td>\n",
       "      <td>3</td>\n",
       "      <td>0</td>\n",
       "      <td>9362.0</td>\n",
       "    </tr>\n",
       "    <tr>\n",
       "      <th>4</th>\n",
       "      <td>4</td>\n",
       "      <td>1244973</td>\n",
       "      <td>8079074.0</td>\n",
       "      <td>2018-08-28 12:55:04</td>\n",
       "      <td>1</td>\n",
       "      <td>1</td>\n",
       "      <td>9901.0</td>\n",
       "    </tr>\n",
       "    <tr>\n",
       "      <th>...</th>\n",
       "      <td>...</td>\n",
       "      <td>...</td>\n",
       "      <td>...</td>\n",
       "      <td>...</td>\n",
       "      <td>...</td>\n",
       "      <td>...</td>\n",
       "      <td>...</td>\n",
       "    </tr>\n",
       "    <tr>\n",
       "      <th>397521</th>\n",
       "      <td>397521</td>\n",
       "      <td>1151001</td>\n",
       "      <td>3504117.0</td>\n",
       "      <td>2014-09-17 12:30:13</td>\n",
       "      <td>2</td>\n",
       "      <td>1</td>\n",
       "      <td>9435.0</td>\n",
       "    </tr>\n",
       "    <tr>\n",
       "      <th>397522</th>\n",
       "      <td>397522</td>\n",
       "      <td>1581191</td>\n",
       "      <td>3518578.0</td>\n",
       "      <td>2014-09-22 20:14:38</td>\n",
       "      <td>3</td>\n",
       "      <td>1</td>\n",
       "      <td>9176.0</td>\n",
       "    </tr>\n",
       "    <tr>\n",
       "      <th>397523</th>\n",
       "      <td>397523</td>\n",
       "      <td>1535801</td>\n",
       "      <td>3526258.0</td>\n",
       "      <td>2014-09-25 12:01:58</td>\n",
       "      <td>2</td>\n",
       "      <td>3</td>\n",
       "      <td>9352.0</td>\n",
       "    </tr>\n",
       "    <tr>\n",
       "      <th>397524</th>\n",
       "      <td>397524</td>\n",
       "      <td>1205995</td>\n",
       "      <td>6592609.0</td>\n",
       "      <td>2017-04-14 15:40:44</td>\n",
       "      <td>3</td>\n",
       "      <td>4</td>\n",
       "      <td>9523.0</td>\n",
       "    </tr>\n",
       "    <tr>\n",
       "      <th>397525</th>\n",
       "      <td>397525</td>\n",
       "      <td>1501605</td>\n",
       "      <td>6614631.0</td>\n",
       "      <td>2017-04-22 11:42:48</td>\n",
       "      <td>2</td>\n",
       "      <td>1</td>\n",
       "      <td>9898.0</td>\n",
       "    </tr>\n",
       "  </tbody>\n",
       "</table>\n",
       "<p>397526 rows × 7 columns</p>\n",
       "</div>"
      ],
      "text/plain": [
       "        Unnamed: 0  CUSTOMER_ID  SALESFILE_ID       SF_CREATE_DATE  STATUS  \\\n",
       "0                0      1712792     7274467.0  2017-11-17 12:15:39       1   \n",
       "1                1      1149729     4839430.0  2015-11-11 17:03:28       2   \n",
       "2                2      1697993     4847398.0  2015-11-14 11:15:51       2   \n",
       "3                3      1680258     3817349.0  2014-12-23 17:26:09       3   \n",
       "4                4      1244973     8079074.0  2018-08-28 12:55:04       1   \n",
       "...            ...          ...           ...                  ...     ...   \n",
       "397521      397521      1151001     3504117.0  2014-09-17 12:30:13       2   \n",
       "397522      397522      1581191     3518578.0  2014-09-22 20:14:38       3   \n",
       "397523      397523      1535801     3526258.0  2014-09-25 12:01:58       2   \n",
       "397524      397524      1205995     6592609.0  2017-04-14 15:40:44       3   \n",
       "397525      397525      1501605     6614631.0  2017-04-22 11:42:48       2   \n",
       "\n",
       "        REQ_BRAND_CODE  REQ_TOPMODEL_CODE  \n",
       "0                    0             9231.0  \n",
       "1                    1             9184.0  \n",
       "2                    0             9231.0  \n",
       "3                    0             9362.0  \n",
       "4                    1             9901.0  \n",
       "...                ...                ...  \n",
       "397521               1             9435.0  \n",
       "397522               1             9176.0  \n",
       "397523               3             9352.0  \n",
       "397524               4             9523.0  \n",
       "397525               1             9898.0  \n",
       "\n",
       "[397526 rows x 7 columns]"
      ]
     },
     "execution_count": 39,
     "metadata": {},
     "output_type": "execute_result"
    }
   ],
   "source": [
    "sales"
   ]
  },
  {
   "cell_type": "code",
   "execution_count": null,
   "id": "cfa2f001",
   "metadata": {},
   "outputs": [],
   "source": [
    "sales['STATUS'] = sales['STATUS'].astype('str')\n",
    "cleanup_nums_status = {\"STATUS\":     {\"100\": 0, \"101\": 1, \"102\": 2, \"105\": 3, \"106\": 4, \"109\": 5}}\n",
    "sales = sales.replace(cleanup_nums_status)"
   ]
  },
  {
   "cell_type": "markdown",
   "id": "ab075823",
   "metadata": {},
   "source": [
    "- REQ_TOPMODEL_CODE"
   ]
  },
  {
   "cell_type": "code",
   "execution_count": 57,
   "id": "5d5c0428",
   "metadata": {},
   "outputs": [],
   "source": [
    "sales['REQ_TOPMODEL_CODE'] = sales['REQ_TOPMODEL_CODE'].astype('str')\n",
    "cleanup_nums_topmodel = {\"REQ_TOPMODEL_CODE\":     {\"90\": 0, \"91\": 1, \"92\": 2, \"93\": 3, \"94\": 4, \"95\": 5,\n",
    "                                                 \"96\": 6, \"97\": 7, \"98\": 8, \"99\": 9}}\n",
    "sales = sales.replace(cleanup_nums_topmodel)"
   ]
  },
  {
   "cell_type": "code",
   "execution_count": 58,
   "id": "5003de7f",
   "metadata": {},
   "outputs": [
    {
     "data": {
      "text/html": [
       "<div>\n",
       "<style scoped>\n",
       "    .dataframe tbody tr th:only-of-type {\n",
       "        vertical-align: middle;\n",
       "    }\n",
       "\n",
       "    .dataframe tbody tr th {\n",
       "        vertical-align: top;\n",
       "    }\n",
       "\n",
       "    .dataframe thead th {\n",
       "        text-align: right;\n",
       "    }\n",
       "</style>\n",
       "<table border=\"1\" class=\"dataframe\">\n",
       "  <thead>\n",
       "    <tr style=\"text-align: right;\">\n",
       "      <th></th>\n",
       "      <th>Unnamed: 0</th>\n",
       "      <th>CUSTOMER_ID</th>\n",
       "      <th>SALESFILE_ID</th>\n",
       "      <th>SF_CREATE_DATE</th>\n",
       "      <th>STATUS</th>\n",
       "      <th>REQ_BRAND_CODE</th>\n",
       "      <th>REQ_TOPMODEL_CODE</th>\n",
       "    </tr>\n",
       "  </thead>\n",
       "  <tbody>\n",
       "    <tr>\n",
       "      <th>0</th>\n",
       "      <td>0</td>\n",
       "      <td>1712792</td>\n",
       "      <td>7274467.0</td>\n",
       "      <td>2017-11-17 12:15:39</td>\n",
       "      <td>1</td>\n",
       "      <td>0</td>\n",
       "      <td>2</td>\n",
       "    </tr>\n",
       "    <tr>\n",
       "      <th>1</th>\n",
       "      <td>1</td>\n",
       "      <td>1149729</td>\n",
       "      <td>4839430.0</td>\n",
       "      <td>2015-11-11 17:03:28</td>\n",
       "      <td>2</td>\n",
       "      <td>1</td>\n",
       "      <td>1</td>\n",
       "    </tr>\n",
       "    <tr>\n",
       "      <th>2</th>\n",
       "      <td>2</td>\n",
       "      <td>1697993</td>\n",
       "      <td>4847398.0</td>\n",
       "      <td>2015-11-14 11:15:51</td>\n",
       "      <td>2</td>\n",
       "      <td>0</td>\n",
       "      <td>2</td>\n",
       "    </tr>\n",
       "    <tr>\n",
       "      <th>3</th>\n",
       "      <td>3</td>\n",
       "      <td>1680258</td>\n",
       "      <td>3817349.0</td>\n",
       "      <td>2014-12-23 17:26:09</td>\n",
       "      <td>3</td>\n",
       "      <td>0</td>\n",
       "      <td>3</td>\n",
       "    </tr>\n",
       "    <tr>\n",
       "      <th>4</th>\n",
       "      <td>4</td>\n",
       "      <td>1244973</td>\n",
       "      <td>8079074.0</td>\n",
       "      <td>2018-08-28 12:55:04</td>\n",
       "      <td>1</td>\n",
       "      <td>1</td>\n",
       "      <td>9</td>\n",
       "    </tr>\n",
       "    <tr>\n",
       "      <th>...</th>\n",
       "      <td>...</td>\n",
       "      <td>...</td>\n",
       "      <td>...</td>\n",
       "      <td>...</td>\n",
       "      <td>...</td>\n",
       "      <td>...</td>\n",
       "      <td>...</td>\n",
       "    </tr>\n",
       "    <tr>\n",
       "      <th>397521</th>\n",
       "      <td>397521</td>\n",
       "      <td>1151001</td>\n",
       "      <td>3504117.0</td>\n",
       "      <td>2014-09-17 12:30:13</td>\n",
       "      <td>2</td>\n",
       "      <td>1</td>\n",
       "      <td>4</td>\n",
       "    </tr>\n",
       "    <tr>\n",
       "      <th>397522</th>\n",
       "      <td>397522</td>\n",
       "      <td>1581191</td>\n",
       "      <td>3518578.0</td>\n",
       "      <td>2014-09-22 20:14:38</td>\n",
       "      <td>3</td>\n",
       "      <td>1</td>\n",
       "      <td>1</td>\n",
       "    </tr>\n",
       "    <tr>\n",
       "      <th>397523</th>\n",
       "      <td>397523</td>\n",
       "      <td>1535801</td>\n",
       "      <td>3526258.0</td>\n",
       "      <td>2014-09-25 12:01:58</td>\n",
       "      <td>2</td>\n",
       "      <td>3</td>\n",
       "      <td>3</td>\n",
       "    </tr>\n",
       "    <tr>\n",
       "      <th>397524</th>\n",
       "      <td>397524</td>\n",
       "      <td>1205995</td>\n",
       "      <td>6592609.0</td>\n",
       "      <td>2017-04-14 15:40:44</td>\n",
       "      <td>3</td>\n",
       "      <td>4</td>\n",
       "      <td>5</td>\n",
       "    </tr>\n",
       "    <tr>\n",
       "      <th>397525</th>\n",
       "      <td>397525</td>\n",
       "      <td>1501605</td>\n",
       "      <td>6614631.0</td>\n",
       "      <td>2017-04-22 11:42:48</td>\n",
       "      <td>2</td>\n",
       "      <td>1</td>\n",
       "      <td>8</td>\n",
       "    </tr>\n",
       "  </tbody>\n",
       "</table>\n",
       "<p>397526 rows × 7 columns</p>\n",
       "</div>"
      ],
      "text/plain": [
       "        Unnamed: 0  CUSTOMER_ID  SALESFILE_ID       SF_CREATE_DATE  STATUS  \\\n",
       "0                0      1712792     7274467.0  2017-11-17 12:15:39       1   \n",
       "1                1      1149729     4839430.0  2015-11-11 17:03:28       2   \n",
       "2                2      1697993     4847398.0  2015-11-14 11:15:51       2   \n",
       "3                3      1680258     3817349.0  2014-12-23 17:26:09       3   \n",
       "4                4      1244973     8079074.0  2018-08-28 12:55:04       1   \n",
       "...            ...          ...           ...                  ...     ...   \n",
       "397521      397521      1151001     3504117.0  2014-09-17 12:30:13       2   \n",
       "397522      397522      1581191     3518578.0  2014-09-22 20:14:38       3   \n",
       "397523      397523      1535801     3526258.0  2014-09-25 12:01:58       2   \n",
       "397524      397524      1205995     6592609.0  2017-04-14 15:40:44       3   \n",
       "397525      397525      1501605     6614631.0  2017-04-22 11:42:48       2   \n",
       "\n",
       "        REQ_BRAND_CODE  REQ_TOPMODEL_CODE  \n",
       "0                    0                  2  \n",
       "1                    1                  1  \n",
       "2                    0                  2  \n",
       "3                    0                  3  \n",
       "4                    1                  9  \n",
       "...                ...                ...  \n",
       "397521               1                  4  \n",
       "397522               1                  1  \n",
       "397523               3                  3  \n",
       "397524               4                  5  \n",
       "397525               1                  8  \n",
       "\n",
       "[397526 rows x 7 columns]"
      ]
     },
     "execution_count": 58,
     "metadata": {},
     "output_type": "execute_result"
    }
   ],
   "source": [
    "sales"
   ]
  },
  {
   "cell_type": "markdown",
   "id": "1685ee88",
   "metadata": {},
   "source": [
    "- SF_CREATE_DATE"
   ]
  },
  {
   "cell_type": "code",
   "execution_count": 62,
   "id": "0c13fc5d",
   "metadata": {},
   "outputs": [],
   "source": [
    "sales['SF_CREATE_DATE'] = sales['SF_CREATE_DATE'].astype('str')\n",
    "cleanup_nums_date = {\"SF_CREATE_DATE\":     {\"2010\": 0, \"2011\": 1, \"2012\": 2, \"2013\": 3, \"2014\": 4, \"2015\": 5,\n",
    "                                                 \"2016\": 6, \"2017\": 7, \"2018\": 8, \"2019\": 9, \"2020\": 10, \"2021\": 11}}\n",
    "sales = sales.replace(cleanup_nums_date)"
   ]
  },
  {
   "cell_type": "code",
   "execution_count": 63,
   "id": "2e7317d7",
   "metadata": {},
   "outputs": [
    {
     "data": {
      "text/html": [
       "<div>\n",
       "<style scoped>\n",
       "    .dataframe tbody tr th:only-of-type {\n",
       "        vertical-align: middle;\n",
       "    }\n",
       "\n",
       "    .dataframe tbody tr th {\n",
       "        vertical-align: top;\n",
       "    }\n",
       "\n",
       "    .dataframe thead th {\n",
       "        text-align: right;\n",
       "    }\n",
       "</style>\n",
       "<table border=\"1\" class=\"dataframe\">\n",
       "  <thead>\n",
       "    <tr style=\"text-align: right;\">\n",
       "      <th></th>\n",
       "      <th>Unnamed: 0</th>\n",
       "      <th>CUSTOMER_ID</th>\n",
       "      <th>SALESFILE_ID</th>\n",
       "      <th>SF_CREATE_DATE</th>\n",
       "      <th>STATUS</th>\n",
       "      <th>REQ_BRAND_CODE</th>\n",
       "      <th>REQ_TOPMODEL_CODE</th>\n",
       "    </tr>\n",
       "  </thead>\n",
       "  <tbody>\n",
       "    <tr>\n",
       "      <th>0</th>\n",
       "      <td>0</td>\n",
       "      <td>1712792</td>\n",
       "      <td>7274467.0</td>\n",
       "      <td>7</td>\n",
       "      <td>1</td>\n",
       "      <td>0</td>\n",
       "      <td>2</td>\n",
       "    </tr>\n",
       "    <tr>\n",
       "      <th>1</th>\n",
       "      <td>1</td>\n",
       "      <td>1149729</td>\n",
       "      <td>4839430.0</td>\n",
       "      <td>5</td>\n",
       "      <td>2</td>\n",
       "      <td>1</td>\n",
       "      <td>1</td>\n",
       "    </tr>\n",
       "    <tr>\n",
       "      <th>2</th>\n",
       "      <td>2</td>\n",
       "      <td>1697993</td>\n",
       "      <td>4847398.0</td>\n",
       "      <td>5</td>\n",
       "      <td>2</td>\n",
       "      <td>0</td>\n",
       "      <td>2</td>\n",
       "    </tr>\n",
       "    <tr>\n",
       "      <th>3</th>\n",
       "      <td>3</td>\n",
       "      <td>1680258</td>\n",
       "      <td>3817349.0</td>\n",
       "      <td>4</td>\n",
       "      <td>3</td>\n",
       "      <td>0</td>\n",
       "      <td>3</td>\n",
       "    </tr>\n",
       "    <tr>\n",
       "      <th>4</th>\n",
       "      <td>4</td>\n",
       "      <td>1244973</td>\n",
       "      <td>8079074.0</td>\n",
       "      <td>8</td>\n",
       "      <td>1</td>\n",
       "      <td>1</td>\n",
       "      <td>9</td>\n",
       "    </tr>\n",
       "    <tr>\n",
       "      <th>...</th>\n",
       "      <td>...</td>\n",
       "      <td>...</td>\n",
       "      <td>...</td>\n",
       "      <td>...</td>\n",
       "      <td>...</td>\n",
       "      <td>...</td>\n",
       "      <td>...</td>\n",
       "    </tr>\n",
       "    <tr>\n",
       "      <th>397521</th>\n",
       "      <td>397521</td>\n",
       "      <td>1151001</td>\n",
       "      <td>3504117.0</td>\n",
       "      <td>4</td>\n",
       "      <td>2</td>\n",
       "      <td>1</td>\n",
       "      <td>4</td>\n",
       "    </tr>\n",
       "    <tr>\n",
       "      <th>397522</th>\n",
       "      <td>397522</td>\n",
       "      <td>1581191</td>\n",
       "      <td>3518578.0</td>\n",
       "      <td>4</td>\n",
       "      <td>3</td>\n",
       "      <td>1</td>\n",
       "      <td>1</td>\n",
       "    </tr>\n",
       "    <tr>\n",
       "      <th>397523</th>\n",
       "      <td>397523</td>\n",
       "      <td>1535801</td>\n",
       "      <td>3526258.0</td>\n",
       "      <td>4</td>\n",
       "      <td>2</td>\n",
       "      <td>3</td>\n",
       "      <td>3</td>\n",
       "    </tr>\n",
       "    <tr>\n",
       "      <th>397524</th>\n",
       "      <td>397524</td>\n",
       "      <td>1205995</td>\n",
       "      <td>6592609.0</td>\n",
       "      <td>7</td>\n",
       "      <td>3</td>\n",
       "      <td>4</td>\n",
       "      <td>5</td>\n",
       "    </tr>\n",
       "    <tr>\n",
       "      <th>397525</th>\n",
       "      <td>397525</td>\n",
       "      <td>1501605</td>\n",
       "      <td>6614631.0</td>\n",
       "      <td>7</td>\n",
       "      <td>2</td>\n",
       "      <td>1</td>\n",
       "      <td>8</td>\n",
       "    </tr>\n",
       "  </tbody>\n",
       "</table>\n",
       "<p>397526 rows × 7 columns</p>\n",
       "</div>"
      ],
      "text/plain": [
       "        Unnamed: 0  CUSTOMER_ID  SALESFILE_ID  SF_CREATE_DATE  STATUS  \\\n",
       "0                0      1712792     7274467.0               7       1   \n",
       "1                1      1149729     4839430.0               5       2   \n",
       "2                2      1697993     4847398.0               5       2   \n",
       "3                3      1680258     3817349.0               4       3   \n",
       "4                4      1244973     8079074.0               8       1   \n",
       "...            ...          ...           ...             ...     ...   \n",
       "397521      397521      1151001     3504117.0               4       2   \n",
       "397522      397522      1581191     3518578.0               4       3   \n",
       "397523      397523      1535801     3526258.0               4       2   \n",
       "397524      397524      1205995     6592609.0               7       3   \n",
       "397525      397525      1501605     6614631.0               7       2   \n",
       "\n",
       "        REQ_BRAND_CODE  REQ_TOPMODEL_CODE  \n",
       "0                    0                  2  \n",
       "1                    1                  1  \n",
       "2                    0                  2  \n",
       "3                    0                  3  \n",
       "4                    1                  9  \n",
       "...                ...                ...  \n",
       "397521               1                  4  \n",
       "397522               1                  1  \n",
       "397523               3                  3  \n",
       "397524               4                  5  \n",
       "397525               1                  8  \n",
       "\n",
       "[397526 rows x 7 columns]"
      ]
     },
     "execution_count": 63,
     "metadata": {},
     "output_type": "execute_result"
    }
   ],
   "source": [
    "sales"
   ]
  },
  {
   "cell_type": "code",
   "execution_count": 89,
   "id": "5507153c",
   "metadata": {},
   "outputs": [],
   "source": [
    "sales.to_csv(\"sales.csv\", index=False)"
   ]
  },
  {
   "cell_type": "markdown",
   "id": "c0b167d1",
   "metadata": {},
   "source": [
    "# 6-) MASK_SERVIS_BAKIM_DATATHON_FINAL"
   ]
  },
  {
   "cell_type": "markdown",
   "id": "bc037251",
   "metadata": {},
   "source": [
    "## Genel Bilgiler "
   ]
  },
  {
   "cell_type": "code",
   "execution_count": 64,
   "id": "ee5d7c5a",
   "metadata": {},
   "outputs": [
    {
     "data": {
      "text/html": [
       "<div>\n",
       "<style scoped>\n",
       "    .dataframe tbody tr th:only-of-type {\n",
       "        vertical-align: middle;\n",
       "    }\n",
       "\n",
       "    .dataframe tbody tr th {\n",
       "        vertical-align: top;\n",
       "    }\n",
       "\n",
       "    .dataframe thead th {\n",
       "        text-align: right;\n",
       "    }\n",
       "</style>\n",
       "<table border=\"1\" class=\"dataframe\">\n",
       "  <thead>\n",
       "    <tr style=\"text-align: right;\">\n",
       "      <th></th>\n",
       "      <th>Unnamed: 0</th>\n",
       "      <th>CREATE_DATE</th>\n",
       "      <th>IS_MAINTENANCE</th>\n",
       "      <th>VEHICLE_ID</th>\n",
       "      <th>TOTAL_AMOUNT_TL</th>\n",
       "    </tr>\n",
       "  </thead>\n",
       "  <tbody>\n",
       "    <tr>\n",
       "      <th>0</th>\n",
       "      <td>0</td>\n",
       "      <td>2010-12-29 10:50:56</td>\n",
       "      <td>1</td>\n",
       "      <td>5000001</td>\n",
       "      <td>192.0</td>\n",
       "    </tr>\n",
       "    <tr>\n",
       "      <th>1</th>\n",
       "      <td>1</td>\n",
       "      <td>2013-08-21 10:34:21</td>\n",
       "      <td>1</td>\n",
       "      <td>5000001</td>\n",
       "      <td>267.0</td>\n",
       "    </tr>\n",
       "    <tr>\n",
       "      <th>2</th>\n",
       "      <td>2</td>\n",
       "      <td>2015-11-30 10:55:00</td>\n",
       "      <td>1</td>\n",
       "      <td>5000001</td>\n",
       "      <td>1747.0</td>\n",
       "    </tr>\n",
       "    <tr>\n",
       "      <th>3</th>\n",
       "      <td>3</td>\n",
       "      <td>2015-12-09 13:38:49</td>\n",
       "      <td>0</td>\n",
       "      <td>5000001</td>\n",
       "      <td>465.0</td>\n",
       "    </tr>\n",
       "    <tr>\n",
       "      <th>4</th>\n",
       "      <td>4</td>\n",
       "      <td>2017-11-23 09:53:22</td>\n",
       "      <td>1</td>\n",
       "      <td>5000001</td>\n",
       "      <td>549.0</td>\n",
       "    </tr>\n",
       "    <tr>\n",
       "      <th>...</th>\n",
       "      <td>...</td>\n",
       "      <td>...</td>\n",
       "      <td>...</td>\n",
       "      <td>...</td>\n",
       "      <td>...</td>\n",
       "    </tr>\n",
       "    <tr>\n",
       "      <th>1040995</th>\n",
       "      <td>1040995</td>\n",
       "      <td>2021-05-20 14:58:31</td>\n",
       "      <td>0</td>\n",
       "      <td>5344976</td>\n",
       "      <td>1180.0</td>\n",
       "    </tr>\n",
       "    <tr>\n",
       "      <th>1040996</th>\n",
       "      <td>1040996</td>\n",
       "      <td>2021-05-24 09:57:34</td>\n",
       "      <td>0</td>\n",
       "      <td>5344981</td>\n",
       "      <td>0.0</td>\n",
       "    </tr>\n",
       "    <tr>\n",
       "      <th>1040997</th>\n",
       "      <td>1040997</td>\n",
       "      <td>2021-05-25 12:44:02</td>\n",
       "      <td>0</td>\n",
       "      <td>5344999</td>\n",
       "      <td>3258.0</td>\n",
       "    </tr>\n",
       "    <tr>\n",
       "      <th>1040998</th>\n",
       "      <td>1040998</td>\n",
       "      <td>2021-05-27 09:45:00</td>\n",
       "      <td>0</td>\n",
       "      <td>5345037</td>\n",
       "      <td>1.0</td>\n",
       "    </tr>\n",
       "    <tr>\n",
       "      <th>1040999</th>\n",
       "      <td>1040999</td>\n",
       "      <td>2021-05-28 13:46:36</td>\n",
       "      <td>0</td>\n",
       "      <td>5345048</td>\n",
       "      <td>604.0</td>\n",
       "    </tr>\n",
       "  </tbody>\n",
       "</table>\n",
       "<p>1041000 rows × 5 columns</p>\n",
       "</div>"
      ],
      "text/plain": [
       "         Unnamed: 0          CREATE_DATE  IS_MAINTENANCE  VEHICLE_ID  \\\n",
       "0                 0  2010-12-29 10:50:56               1     5000001   \n",
       "1                 1  2013-08-21 10:34:21               1     5000001   \n",
       "2                 2  2015-11-30 10:55:00               1     5000001   \n",
       "3                 3  2015-12-09 13:38:49               0     5000001   \n",
       "4                 4  2017-11-23 09:53:22               1     5000001   \n",
       "...             ...                  ...             ...         ...   \n",
       "1040995     1040995  2021-05-20 14:58:31               0     5344976   \n",
       "1040996     1040996  2021-05-24 09:57:34               0     5344981   \n",
       "1040997     1040997  2021-05-25 12:44:02               0     5344999   \n",
       "1040998     1040998  2021-05-27 09:45:00               0     5345037   \n",
       "1040999     1040999  2021-05-28 13:46:36               0     5345048   \n",
       "\n",
       "         TOTAL_AMOUNT_TL  \n",
       "0                  192.0  \n",
       "1                  267.0  \n",
       "2                 1747.0  \n",
       "3                  465.0  \n",
       "4                  549.0  \n",
       "...                  ...  \n",
       "1040995           1180.0  \n",
       "1040996              0.0  \n",
       "1040997           3258.0  \n",
       "1040998              1.0  \n",
       "1040999            604.0  \n",
       "\n",
       "[1041000 rows x 5 columns]"
      ]
     },
     "execution_count": 64,
     "metadata": {},
     "output_type": "execute_result"
    }
   ],
   "source": [
    "# IS_MAINTENANCE ==> BAKIM = 1, SERVİS = 0\n",
    "servis_bakim"
   ]
  },
  {
   "cell_type": "code",
   "execution_count": 65,
   "id": "f945452b",
   "metadata": {},
   "outputs": [
    {
     "name": "stdout",
     "output_type": "stream",
     "text": [
      "<class 'pandas.core.frame.DataFrame'>\n",
      "RangeIndex: 1041000 entries, 0 to 1040999\n",
      "Data columns (total 5 columns):\n",
      "Unnamed: 0         1041000 non-null int64\n",
      "CREATE_DATE        1041000 non-null object\n",
      "IS_MAINTENANCE     1041000 non-null int64\n",
      "VEHICLE_ID         1041000 non-null int64\n",
      "TOTAL_AMOUNT_TL    965596 non-null float64\n",
      "dtypes: float64(1), int64(3), object(1)\n",
      "memory usage: 39.7+ MB\n"
     ]
    }
   ],
   "source": [
    "servis_bakim.info()"
   ]
  },
  {
   "cell_type": "code",
   "execution_count": 66,
   "id": "0fe08335",
   "metadata": {},
   "outputs": [
    {
     "data": {
      "text/plain": [
       "Unnamed: 0             0\n",
       "CREATE_DATE            0\n",
       "IS_MAINTENANCE         0\n",
       "VEHICLE_ID             0\n",
       "TOTAL_AMOUNT_TL    75404\n",
       "dtype: int64"
      ]
     },
     "execution_count": 66,
     "metadata": {},
     "output_type": "execute_result"
    }
   ],
   "source": [
    "servis_bakim.isnull().sum()"
   ]
  },
  {
   "cell_type": "markdown",
   "id": "a9f0a914",
   "metadata": {},
   "source": [
    "## Eşsizlik"
   ]
  },
  {
   "cell_type": "code",
   "execution_count": 67,
   "id": "46ebd89c",
   "metadata": {},
   "outputs": [
    {
     "data": {
      "text/plain": [
       "array([1, 0], dtype=int64)"
      ]
     },
     "execution_count": 67,
     "metadata": {},
     "output_type": "execute_result"
    }
   ],
   "source": [
    "pd.unique(servis_bakim['IS_MAINTENANCE'])"
   ]
  },
  {
   "cell_type": "code",
   "execution_count": 85,
   "id": "0bfa4e73",
   "metadata": {},
   "outputs": [
    {
     "data": {
      "text/plain": [
       "array([  192.,   267.,  1747., ..., 26786.,  8770., 14466.])"
      ]
     },
     "execution_count": 85,
     "metadata": {},
     "output_type": "execute_result"
    }
   ],
   "source": [
    "pd.unique(servis_bakim['TOTAL_AMOUNT_TL'])"
   ]
  },
  {
   "cell_type": "code",
   "execution_count": 86,
   "id": "a458ee9c",
   "metadata": {},
   "outputs": [
    {
     "data": {
      "text/plain": [
       "[1, 6, 2, 4, NaN, ..., 18, 17, 12, 15, 20]\n",
       "Length: 21\n",
       "Categories (20, int64): [1 < 2 < 3 < 4 ... 17 < 18 < 19 < 20]"
      ]
     },
     "execution_count": 86,
     "metadata": {},
     "output_type": "execute_result"
    }
   ],
   "source": [
    "pd.unique(servis_bakim['TOTAL_AMOUNT_GROUP'])"
   ]
  },
  {
   "cell_type": "markdown",
   "id": "5ea4b451",
   "metadata": {},
   "source": [
    "## Values"
   ]
  },
  {
   "cell_type": "code",
   "execution_count": 70,
   "id": "c6cc0f01",
   "metadata": {},
   "outputs": [
    {
     "data": {
      "text/plain": [
       "0    558850\n",
       "1    482150\n",
       "Name: IS_MAINTENANCE, dtype: int64"
      ]
     },
     "execution_count": 70,
     "metadata": {},
     "output_type": "execute_result"
    }
   ],
   "source": [
    "servis_bakim['IS_MAINTENANCE'].value_counts(dropna=True)"
   ]
  },
  {
   "cell_type": "code",
   "execution_count": 71,
   "id": "6b72cc2a",
   "metadata": {},
   "outputs": [
    {
     "data": {
      "text/plain": [
       "1.0        19439\n",
       "0.0        14857\n",
       "2.0         3855\n",
       "30.0        2908\n",
       "91.0        2742\n",
       "           ...  \n",
       "15378.0        1\n",
       "61521.0        1\n",
       "15383.0        1\n",
       "14072.0        1\n",
       "16051.0        1\n",
       "Name: TOTAL_AMOUNT_TL, Length: 16006, dtype: int64"
      ]
     },
     "execution_count": 71,
     "metadata": {},
     "output_type": "execute_result"
    }
   ],
   "source": [
    "servis_bakim['TOTAL_AMOUNT_TL'].value_counts(dropna=True)"
   ]
  },
  {
   "cell_type": "code",
   "execution_count": 88,
   "id": "3e1cac08",
   "metadata": {},
   "outputs": [
    {
     "data": {
      "text/plain": [
       "1     294597\n",
       "2     254252\n",
       "3     131327\n",
       "4      68383\n",
       "5      39793\n",
       "6      25952\n",
       "7      19179\n",
       "8      14008\n",
       "9      11031\n",
       "10      9104\n",
       "11      7561\n",
       "12      6245\n",
       "13      5228\n",
       "14      4265\n",
       "15      3495\n",
       "16      3059\n",
       "17      2644\n",
       "18      2162\n",
       "19      2100\n",
       "20      1828\n",
       "Name: TOTAL_AMOUNT_GROUP, dtype: int64"
      ]
     },
     "execution_count": 88,
     "metadata": {},
     "output_type": "execute_result"
    }
   ],
   "source": [
    "servis_bakim['TOTAL_AMOUNT_GROUP'].value_counts()"
   ]
  },
  {
   "cell_type": "markdown",
   "id": "29412093",
   "metadata": {},
   "source": [
    "## Column Categorization"
   ]
  },
  {
   "cell_type": "markdown",
   "id": "16c6d419",
   "metadata": {},
   "source": [
    "- TOTAL_AMOUNT_TL"
   ]
  },
  {
   "cell_type": "code",
   "execution_count": 73,
   "id": "b028fa1d",
   "metadata": {},
   "outputs": [],
   "source": [
    "servis_bakim['TOTAL_AMOUNT_TL'] = servis_bakim['TOTAL_AMOUNT_TL'].astype('str')\n",
    "cleanup_nums_servis = {\"TOTAL_AMOUNT_TL\":     {\"0.0\": np.nan, \"1.0\": np.nan, \"2.0\": np.nan}}\n",
    "servis_bakim = servis_bakim.replace(cleanup_nums_servis)"
   ]
  },
  {
   "cell_type": "code",
   "execution_count": 74,
   "id": "d72aa248",
   "metadata": {},
   "outputs": [
    {
     "data": {
      "text/html": [
       "<div>\n",
       "<style scoped>\n",
       "    .dataframe tbody tr th:only-of-type {\n",
       "        vertical-align: middle;\n",
       "    }\n",
       "\n",
       "    .dataframe tbody tr th {\n",
       "        vertical-align: top;\n",
       "    }\n",
       "\n",
       "    .dataframe thead th {\n",
       "        text-align: right;\n",
       "    }\n",
       "</style>\n",
       "<table border=\"1\" class=\"dataframe\">\n",
       "  <thead>\n",
       "    <tr style=\"text-align: right;\">\n",
       "      <th></th>\n",
       "      <th>Unnamed: 0</th>\n",
       "      <th>CREATE_DATE</th>\n",
       "      <th>IS_MAINTENANCE</th>\n",
       "      <th>VEHICLE_ID</th>\n",
       "      <th>TOTAL_AMOUNT_TL</th>\n",
       "    </tr>\n",
       "  </thead>\n",
       "  <tbody>\n",
       "    <tr>\n",
       "      <th>0</th>\n",
       "      <td>0</td>\n",
       "      <td>2010-12-29 10:50:56</td>\n",
       "      <td>1</td>\n",
       "      <td>5000001</td>\n",
       "      <td>192.0</td>\n",
       "    </tr>\n",
       "    <tr>\n",
       "      <th>1</th>\n",
       "      <td>1</td>\n",
       "      <td>2013-08-21 10:34:21</td>\n",
       "      <td>1</td>\n",
       "      <td>5000001</td>\n",
       "      <td>267.0</td>\n",
       "    </tr>\n",
       "    <tr>\n",
       "      <th>2</th>\n",
       "      <td>2</td>\n",
       "      <td>2015-11-30 10:55:00</td>\n",
       "      <td>1</td>\n",
       "      <td>5000001</td>\n",
       "      <td>1747.0</td>\n",
       "    </tr>\n",
       "    <tr>\n",
       "      <th>3</th>\n",
       "      <td>3</td>\n",
       "      <td>2015-12-09 13:38:49</td>\n",
       "      <td>0</td>\n",
       "      <td>5000001</td>\n",
       "      <td>465.0</td>\n",
       "    </tr>\n",
       "    <tr>\n",
       "      <th>4</th>\n",
       "      <td>4</td>\n",
       "      <td>2017-11-23 09:53:22</td>\n",
       "      <td>1</td>\n",
       "      <td>5000001</td>\n",
       "      <td>549.0</td>\n",
       "    </tr>\n",
       "    <tr>\n",
       "      <th>...</th>\n",
       "      <td>...</td>\n",
       "      <td>...</td>\n",
       "      <td>...</td>\n",
       "      <td>...</td>\n",
       "      <td>...</td>\n",
       "    </tr>\n",
       "    <tr>\n",
       "      <th>1040995</th>\n",
       "      <td>1040995</td>\n",
       "      <td>2021-05-20 14:58:31</td>\n",
       "      <td>0</td>\n",
       "      <td>5344976</td>\n",
       "      <td>1180.0</td>\n",
       "    </tr>\n",
       "    <tr>\n",
       "      <th>1040996</th>\n",
       "      <td>1040996</td>\n",
       "      <td>2021-05-24 09:57:34</td>\n",
       "      <td>0</td>\n",
       "      <td>5344981</td>\n",
       "      <td>NaN</td>\n",
       "    </tr>\n",
       "    <tr>\n",
       "      <th>1040997</th>\n",
       "      <td>1040997</td>\n",
       "      <td>2021-05-25 12:44:02</td>\n",
       "      <td>0</td>\n",
       "      <td>5344999</td>\n",
       "      <td>3258.0</td>\n",
       "    </tr>\n",
       "    <tr>\n",
       "      <th>1040998</th>\n",
       "      <td>1040998</td>\n",
       "      <td>2021-05-27 09:45:00</td>\n",
       "      <td>0</td>\n",
       "      <td>5345037</td>\n",
       "      <td>NaN</td>\n",
       "    </tr>\n",
       "    <tr>\n",
       "      <th>1040999</th>\n",
       "      <td>1040999</td>\n",
       "      <td>2021-05-28 13:46:36</td>\n",
       "      <td>0</td>\n",
       "      <td>5345048</td>\n",
       "      <td>604.0</td>\n",
       "    </tr>\n",
       "  </tbody>\n",
       "</table>\n",
       "<p>1041000 rows × 5 columns</p>\n",
       "</div>"
      ],
      "text/plain": [
       "         Unnamed: 0          CREATE_DATE  IS_MAINTENANCE  VEHICLE_ID  \\\n",
       "0                 0  2010-12-29 10:50:56               1     5000001   \n",
       "1                 1  2013-08-21 10:34:21               1     5000001   \n",
       "2                 2  2015-11-30 10:55:00               1     5000001   \n",
       "3                 3  2015-12-09 13:38:49               0     5000001   \n",
       "4                 4  2017-11-23 09:53:22               1     5000001   \n",
       "...             ...                  ...             ...         ...   \n",
       "1040995     1040995  2021-05-20 14:58:31               0     5344976   \n",
       "1040996     1040996  2021-05-24 09:57:34               0     5344981   \n",
       "1040997     1040997  2021-05-25 12:44:02               0     5344999   \n",
       "1040998     1040998  2021-05-27 09:45:00               0     5345037   \n",
       "1040999     1040999  2021-05-28 13:46:36               0     5345048   \n",
       "\n",
       "         TOTAL_AMOUNT_TL  \n",
       "0                  192.0  \n",
       "1                  267.0  \n",
       "2                 1747.0  \n",
       "3                  465.0  \n",
       "4                  549.0  \n",
       "...                  ...  \n",
       "1040995           1180.0  \n",
       "1040996              NaN  \n",
       "1040997           3258.0  \n",
       "1040998              NaN  \n",
       "1040999            604.0  \n",
       "\n",
       "[1041000 rows x 5 columns]"
      ]
     },
     "execution_count": 74,
     "metadata": {},
     "output_type": "execute_result"
    }
   ],
   "source": [
    "servis_bakim"
   ]
  },
  {
   "cell_type": "code",
   "execution_count": 83,
   "id": "60820de3",
   "metadata": {},
   "outputs": [],
   "source": [
    "servis_bakim['TOTAL_AMOUNT_GROUP'] = pd.cut(servis_bakim['TOTAL_AMOUNT_TL'], bins=[0,300,600,900,1200,1500,1800,2100,2400,2700,3000,3300,3600,3900,4200,4500,4800,5100,5400,5700,6000], labels=[1,2,3,4,5,6,7,8,9,10,11,12,13,14,15,16,17,18,19,20])"
   ]
  },
  {
   "cell_type": "code",
   "execution_count": 84,
   "id": "bbff8d2e",
   "metadata": {},
   "outputs": [
    {
     "data": {
      "text/html": [
       "<div>\n",
       "<style scoped>\n",
       "    .dataframe tbody tr th:only-of-type {\n",
       "        vertical-align: middle;\n",
       "    }\n",
       "\n",
       "    .dataframe tbody tr th {\n",
       "        vertical-align: top;\n",
       "    }\n",
       "\n",
       "    .dataframe thead th {\n",
       "        text-align: right;\n",
       "    }\n",
       "</style>\n",
       "<table border=\"1\" class=\"dataframe\">\n",
       "  <thead>\n",
       "    <tr style=\"text-align: right;\">\n",
       "      <th></th>\n",
       "      <th>Unnamed: 0</th>\n",
       "      <th>CREATE_DATE</th>\n",
       "      <th>IS_MAINTENANCE</th>\n",
       "      <th>VEHICLE_ID</th>\n",
       "      <th>TOTAL_AMOUNT_TL</th>\n",
       "      <th>TOTAL_AMOUNT_GROUP</th>\n",
       "    </tr>\n",
       "  </thead>\n",
       "  <tbody>\n",
       "    <tr>\n",
       "      <th>0</th>\n",
       "      <td>0</td>\n",
       "      <td>2010-12-29 10:50:56</td>\n",
       "      <td>1</td>\n",
       "      <td>5000001</td>\n",
       "      <td>192.0</td>\n",
       "      <td>1</td>\n",
       "    </tr>\n",
       "    <tr>\n",
       "      <th>1</th>\n",
       "      <td>1</td>\n",
       "      <td>2013-08-21 10:34:21</td>\n",
       "      <td>1</td>\n",
       "      <td>5000001</td>\n",
       "      <td>267.0</td>\n",
       "      <td>1</td>\n",
       "    </tr>\n",
       "    <tr>\n",
       "      <th>2</th>\n",
       "      <td>2</td>\n",
       "      <td>2015-11-30 10:55:00</td>\n",
       "      <td>1</td>\n",
       "      <td>5000001</td>\n",
       "      <td>1747.0</td>\n",
       "      <td>6</td>\n",
       "    </tr>\n",
       "    <tr>\n",
       "      <th>3</th>\n",
       "      <td>3</td>\n",
       "      <td>2015-12-09 13:38:49</td>\n",
       "      <td>0</td>\n",
       "      <td>5000001</td>\n",
       "      <td>465.0</td>\n",
       "      <td>2</td>\n",
       "    </tr>\n",
       "    <tr>\n",
       "      <th>4</th>\n",
       "      <td>4</td>\n",
       "      <td>2017-11-23 09:53:22</td>\n",
       "      <td>1</td>\n",
       "      <td>5000001</td>\n",
       "      <td>549.0</td>\n",
       "      <td>2</td>\n",
       "    </tr>\n",
       "    <tr>\n",
       "      <th>...</th>\n",
       "      <td>...</td>\n",
       "      <td>...</td>\n",
       "      <td>...</td>\n",
       "      <td>...</td>\n",
       "      <td>...</td>\n",
       "      <td>...</td>\n",
       "    </tr>\n",
       "    <tr>\n",
       "      <th>1040995</th>\n",
       "      <td>1040995</td>\n",
       "      <td>2021-05-20 14:58:31</td>\n",
       "      <td>0</td>\n",
       "      <td>5344976</td>\n",
       "      <td>1180.0</td>\n",
       "      <td>4</td>\n",
       "    </tr>\n",
       "    <tr>\n",
       "      <th>1040996</th>\n",
       "      <td>1040996</td>\n",
       "      <td>2021-05-24 09:57:34</td>\n",
       "      <td>0</td>\n",
       "      <td>5344981</td>\n",
       "      <td>NaN</td>\n",
       "      <td>NaN</td>\n",
       "    </tr>\n",
       "    <tr>\n",
       "      <th>1040997</th>\n",
       "      <td>1040997</td>\n",
       "      <td>2021-05-25 12:44:02</td>\n",
       "      <td>0</td>\n",
       "      <td>5344999</td>\n",
       "      <td>3258.0</td>\n",
       "      <td>11</td>\n",
       "    </tr>\n",
       "    <tr>\n",
       "      <th>1040998</th>\n",
       "      <td>1040998</td>\n",
       "      <td>2021-05-27 09:45:00</td>\n",
       "      <td>0</td>\n",
       "      <td>5345037</td>\n",
       "      <td>NaN</td>\n",
       "      <td>NaN</td>\n",
       "    </tr>\n",
       "    <tr>\n",
       "      <th>1040999</th>\n",
       "      <td>1040999</td>\n",
       "      <td>2021-05-28 13:46:36</td>\n",
       "      <td>0</td>\n",
       "      <td>5345048</td>\n",
       "      <td>604.0</td>\n",
       "      <td>3</td>\n",
       "    </tr>\n",
       "  </tbody>\n",
       "</table>\n",
       "<p>1041000 rows × 6 columns</p>\n",
       "</div>"
      ],
      "text/plain": [
       "         Unnamed: 0          CREATE_DATE  IS_MAINTENANCE  VEHICLE_ID  \\\n",
       "0                 0  2010-12-29 10:50:56               1     5000001   \n",
       "1                 1  2013-08-21 10:34:21               1     5000001   \n",
       "2                 2  2015-11-30 10:55:00               1     5000001   \n",
       "3                 3  2015-12-09 13:38:49               0     5000001   \n",
       "4                 4  2017-11-23 09:53:22               1     5000001   \n",
       "...             ...                  ...             ...         ...   \n",
       "1040995     1040995  2021-05-20 14:58:31               0     5344976   \n",
       "1040996     1040996  2021-05-24 09:57:34               0     5344981   \n",
       "1040997     1040997  2021-05-25 12:44:02               0     5344999   \n",
       "1040998     1040998  2021-05-27 09:45:00               0     5345037   \n",
       "1040999     1040999  2021-05-28 13:46:36               0     5345048   \n",
       "\n",
       "         TOTAL_AMOUNT_TL TOTAL_AMOUNT_GROUP  \n",
       "0                  192.0                  1  \n",
       "1                  267.0                  1  \n",
       "2                 1747.0                  6  \n",
       "3                  465.0                  2  \n",
       "4                  549.0                  2  \n",
       "...                  ...                ...  \n",
       "1040995           1180.0                  4  \n",
       "1040996              NaN                NaN  \n",
       "1040997           3258.0                 11  \n",
       "1040998              NaN                NaN  \n",
       "1040999            604.0                  3  \n",
       "\n",
       "[1041000 rows x 6 columns]"
      ]
     },
     "execution_count": 84,
     "metadata": {},
     "output_type": "execute_result"
    }
   ],
   "source": [
    "servis_bakim"
   ]
  },
  {
   "cell_type": "code",
   "execution_count": 91,
   "id": "859b3126",
   "metadata": {},
   "outputs": [],
   "source": [
    "servis_bakim.to_csv(\"servis_bakim.csv\", index=False)"
   ]
  }
 ],
 "metadata": {
  "kernelspec": {
   "display_name": "myfirstenv",
   "language": "python",
   "name": "myfirstenv"
  },
  "language_info": {
   "codemirror_mode": {
    "name": "ipython",
    "version": 3
   },
   "file_extension": ".py",
   "mimetype": "text/x-python",
   "name": "python",
   "nbconvert_exporter": "python",
   "pygments_lexer": "ipython3",
   "version": "3.7.11"
  }
 },
 "nbformat": 4,
 "nbformat_minor": 5
}
